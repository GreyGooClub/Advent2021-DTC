{
 "cells": [
  {
   "cell_type": "code",
   "execution_count": 1,
   "id": "d7f96cb5",
   "metadata": {},
   "outputs": [
    {
     "data": {
      "text/plain": [
       "solve (generic function with 1 method)"
      ]
     },
     "metadata": {},
     "output_type": "display_data"
    }
   ],
   "source": [
    "function number_to_binary(number::Int; bits::Int=9)::String\n",
    "    out = collect('.'^bits)\n",
    "    remaining = number\n",
    "    while remaining > 0\n",
    "        l2 = Int(floor(log2(remaining)))\n",
    "        replace\n",
    "        out[end-l2] = '#'\n",
    "        remaining -= 2^l2\n",
    "    end\n",
    "    return join(out)\n",
    "end\n",
    "\n",
    "function expand_image(image::Matrix{Char}, char::Char)::Matrix{Char}\n",
    "    nrow = permutedims(collect(char^size(image)[2]))\n",
    "    image = vcat(nrow, nrow, image, nrow, nrow)\n",
    "    ncol = collect(char^size(image)[1])\n",
    "    image = hcat(ncol, ncol, image, ncol, ncol)\n",
    "    return image\n",
    "end\n",
    "\n",
    "function solve(filename, npasses)\n",
    "\n",
    "    lines = readlines(filename)\n",
    "    image = Matrix{Char}(permutedims(hcat(collect.(lines[3:end])...)))\n",
    "\n",
    "    algorithm = lines[1]\n",
    "\n",
    "    algorithm_map = Dict{String,Char}([])\n",
    "    for (i, c) in enumerate(algorithm)\n",
    "        n = number_to_binary(i-1)\n",
    "        algorithm_map[n] = c\n",
    "    end\n",
    "\n",
    "    passes_done = 0\n",
    "    expand_with = '.'\n",
    "\n",
    "    while passes_done < npasses\n",
    "        if passes_done != 0\n",
    "            # Expand with whatever empty space would be now\n",
    "            expand_with = algorithm_map[expand_with^9]\n",
    "        end\n",
    "        image = Matrix{Char}(expand_image(image, expand_with))\n",
    "        nimage = Matrix{Char}(copy(image))\n",
    "        # This loop is slower than I would have \n",
    "        # guessed without -O3\n",
    "        for i=2:size(image)[1]-1\n",
    "            for j=2:size(image)[2]-1\n",
    "                input_pixels = Vector{Char}([])\n",
    "                for k=(i-1):(i+1)\n",
    "                    for l=(j-1):(j+1)\n",
    "                        push!(input_pixels, image[k, l])\n",
    "                    end\n",
    "                end\n",
    "                nimage[i, j] = algorithm_map[String(input_pixels)]\n",
    "            end\n",
    "        end\n",
    "        image = nimage[2:end-1, 2:end-1]\n",
    "        passes_done += 1\n",
    "    end\n",
    "\n",
    "   return count(x->x=='#', vcat(image))\n",
    "end"
   ]
  },
  {
   "cell_type": "markdown",
   "id": "3976045d",
   "metadata": {},
   "source": [
    "# Part 1"
   ]
  },
  {
   "cell_type": "code",
   "execution_count": 2,
   "id": "e5c64428",
   "metadata": {},
   "outputs": [
    {
     "name": "stdout",
     "output_type": "stream",
     "text": [
      "Part 1 test: 35\n",
      "Part 1 solution: 5275\n"
     ]
    }
   ],
   "source": [
    "println(\"Part 1 test: $(solve(\"test.txt\", 2))\")\n",
    "println(\"Part 1 solution: $(solve(\"input.txt\", 2))\")"
   ]
  },
  {
   "cell_type": "markdown",
   "id": "edab1f50",
   "metadata": {},
   "source": [
    "# Part 2"
   ]
  },
  {
   "cell_type": "code",
   "execution_count": 3,
   "id": "c29c1172",
   "metadata": {},
   "outputs": [
    {
     "name": "stdout",
     "output_type": "stream",
     "text": [
      "  0.061839 seconds (1.20 M allocations: 71.678 MiB, 11.23% gc time)\n",
      "Part 2 test: 3351\n"
     ]
    },
    {
     "name": "stdout",
     "output_type": "stream",
     "text": [
      "  0.288469 seconds (7.10 M allocations: 424.868 MiB, 8.72% gc time)\n",
      "Part 2 solution: 16482\n"
     ]
    }
   ],
   "source": [
    "println(\"Part 2 test: $(@time solve(\"test.txt\", 50))\")\n",
    "println(\"Part 2 solution: $(@time solve(\"input.txt\", 50))\")"
   ]
  }
 ],
 "metadata": {
  "kernelspec": {
   "display_name": "Julia 1.6.4",
   "language": "julia",
   "name": "julia-1.6"
  },
  "language_info": {
   "file_extension": ".jl",
   "mimetype": "application/julia",
   "name": "julia",
   "version": "1.6.4"
  }
 },
 "nbformat": 4,
 "nbformat_minor": 5
}
