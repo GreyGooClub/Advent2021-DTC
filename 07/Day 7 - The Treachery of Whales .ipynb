{
 "cells": [
  {
   "cell_type": "code",
   "execution_count": 1,
   "id": "1f76af15-b225-417a-89cc-6ed2b7598c29",
   "metadata": {},
   "outputs": [],
   "source": [
    "using DelimitedFiles\n",
    "using Statistics"
   ]
  },
  {
   "cell_type": "markdown",
   "id": "6ec3e656",
   "metadata": {},
   "source": [
    "# Part 1"
   ]
  },
  {
   "cell_type": "code",
   "execution_count": 2,
   "id": "a234c2b1",
   "metadata": {},
   "outputs": [
    {
     "name": "stdout",
     "output_type": "stream",
     "text": [
      "Index: 2, cost: 37\n",
      "Index: 331, cost: 333755\n"
     ]
    }
   ],
   "source": [
    "function print_fuel_cost_part1(filename)\n",
    "    data = readdlm(filename, ',', Int)\n",
    "    best_pos = Int(median(data))\n",
    "    lowest_fuel = sum(abs.(data .- best_pos))\n",
    "    println(\"Index: $best_pos, cost: $lowest_fuel\")\n",
    "end\n",
    "print_fuel_cost_part1(\"test.txt\")\n",
    "print_fuel_cost_part1(\"input.txt\")"
   ]
  },
  {
   "cell_type": "markdown",
   "id": "1ab8497b",
   "metadata": {},
   "source": [
    "# Part 2"
   ]
  },
  {
   "cell_type": "code",
   "execution_count": 3,
   "id": "89b83d23",
   "metadata": {},
   "outputs": [
    {
     "name": "stdout",
     "output_type": "stream",
     "text": [
      "Index: 5, cost: 168\n",
      "Index: 465, cost: 94017638\n"
     ]
    }
   ],
   "source": [
    "function print_fuel_cost_part2(filename)\n",
    "    data = readdlm(filename, ',', Int)\n",
    "    best_pos = 0\n",
    "    lowest_fuel = sum([sum(1:abs(d-best_pos)) for d in data])\n",
    "    for i in 0:maximum(data)\n",
    "        this_fuel = sum([sum(1:abs(d-i)) for d in data])\n",
    "        if this_fuel < lowest_fuel\n",
    "            best_pos = i\n",
    "            lowest_fuel = this_fuel\n",
    "        end\n",
    "    end\n",
    "    println(\"Index: $best_pos, cost: $lowest_fuel\")\n",
    "end\n",
    "print_fuel_cost_part2(\"test.txt\")\n",
    "print_fuel_cost_part2(\"input.txt\")"
   ]
  }
 ],
 "metadata": {
  "kernelspec": {
   "display_name": "Julia 1.6.4",
   "language": "julia",
   "name": "julia-1.6"
  },
  "language_info": {
   "file_extension": ".jl",
   "mimetype": "application/julia",
   "name": "julia",
   "version": "1.6.4"
  }
 },
 "nbformat": 4,
 "nbformat_minor": 5
}
