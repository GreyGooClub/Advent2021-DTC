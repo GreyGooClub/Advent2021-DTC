{
 "cells": [
  {
   "cell_type": "code",
   "execution_count": 1,
   "id": "558cf598",
   "metadata": {},
   "outputs": [],
   "source": [
    "using DelimitedFiles"
   ]
  },
  {
   "cell_type": "markdown",
   "id": "2dc40df8",
   "metadata": {},
   "source": [
    "# Part 1"
   ]
  },
  {
   "cell_type": "code",
   "execution_count": 2,
   "id": "eba3dc77",
   "metadata": {},
   "outputs": [
    {
     "name": "stdout",
     "output_type": "stream",
     "text": [
      "Part 1 test: 1656\n",
      "Part 1 solution: 1562\n"
     ]
    }
   ],
   "source": [
    "function fetch_data(filename)\n",
    "    return parse.(Int, permutedims(hcat(collect.(readdlm(filename, '\\n', String))...)))\n",
    "end\n",
    "\n",
    "function non_zero_neighbours_of(inds, data)\n",
    "    out = []\n",
    "    for ind in inds\n",
    "        neighbs = vcat(CartesianIndices((ind[1]-1:ind[1]+1, ind[2]-1:ind[2]+1))...)\n",
    "        neighbs = filter(x->((checkbounds(Bool, data, x)) && (data[x] .!= 0)), neighbs)\n",
    "        append!(out, neighbs)\n",
    "    end\n",
    "    return out\n",
    "end\n",
    "\n",
    "function solve_part1(filename)\n",
    "    data = fetch_data(filename)\n",
    "    total_flashes = 0\n",
    "    for step in 1:100\n",
    "        flashed_this_step = zeros(Bool, size(data))\n",
    "        data .+= 1\n",
    "        while any(data .> 9)\n",
    "            new_flashes = (data .> 9) .& (.!flashed_this_step)\n",
    "            flashed_this_step .|= new_flashes\n",
    "            data[new_flashes] .= 0\n",
    "            neighbs = non_zero_neighbours_of(findall(d->d, new_flashes), data)\n",
    "            for n in neighbs\n",
    "                data[n] += 1\n",
    "            end\n",
    "        end\n",
    "        total_flashes += sum(flashed_this_step)\n",
    "    end\n",
    "    return total_flashes\n",
    "end\n",
    "\n",
    "println(\"Part 1 test: $(solve_part1(\"test.txt\"))\")\n",
    "println(\"Part 1 solution: $(solve_part1(\"input.txt\"))\")"
   ]
  },
  {
   "cell_type": "markdown",
   "id": "a66cd4bb",
   "metadata": {},
   "source": [
    "# Part 2"
   ]
  },
  {
   "cell_type": "code",
   "execution_count": 3,
   "id": "36d72c96",
   "metadata": {},
   "outputs": [
    {
     "name": "stdout",
     "output_type": "stream",
     "text": [
      "Part 2 test: 195\n",
      "Part 2 solution: 268\n"
     ]
    }
   ],
   "source": [
    "function solve_part2(filename)\n",
    "    data = fetch_data(filename)\n",
    "\n",
    "    data_size = sum(length, data)\n",
    "    step = 1\n",
    "    while true\n",
    "        flashed_this_step = zeros(Bool, size(data))\n",
    "        data .+= 1\n",
    "        while any(data .> 9)\n",
    "            new_flashes = (data .> 9) .& (.!flashed_this_step)\n",
    "            flashed_this_step .|= new_flashes\n",
    "            data[new_flashes] .= 0\n",
    "            neighbs = non_zero_neighbours_of(findall(d->d, new_flashes), data)\n",
    "            for n in neighbs\n",
    "                data[n] += 1\n",
    "            end\n",
    "        end\n",
    "        if sum(flashed_this_step) == data_size\n",
    "            return step\n",
    "            break\n",
    "        end\n",
    "        step += 1\n",
    "    end\n",
    "end\n",
    "\n",
    "println(\"Part 2 test: $(solve_part2(\"test.txt\"))\")\n",
    "println(\"Part 2 solution: $(solve_part2(\"input.txt\"))\")"
   ]
  }
 ],
 "metadata": {
  "kernelspec": {
   "display_name": "Julia 1.6.4",
   "language": "julia",
   "name": "julia-1.6"
  },
  "language_info": {
   "file_extension": ".jl",
   "mimetype": "application/julia",
   "name": "julia",
   "version": "1.6.4"
  }
 },
 "nbformat": 4,
 "nbformat_minor": 5
}
