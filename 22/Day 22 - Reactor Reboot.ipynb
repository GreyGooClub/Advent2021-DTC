{
 "cells": [
  {
   "cell_type": "code",
   "execution_count": 58,
   "id": "0a5496d6",
   "metadata": {},
   "outputs": [
    {
     "data": {
      "text/plain": [
       "solve (generic function with 2 methods)"
      ]
     },
     "execution_count": 58,
     "metadata": {},
     "output_type": "execute_result"
    }
   ],
   "source": [
    "Block = Tuple{UnitRange{Int64},UnitRange{Int64},UnitRange{Int64}}\n",
    "\n",
    "function commands(filename::String; init_only::Bool=false)::Vector{Tuple{Bool, Block}}\n",
    "    comms = Vector{Tuple{Bool, Block}}([])\n",
    "    for line in readlines(filename)\n",
    "        switch = startswith(line, \"on\")\n",
    "        xrange = parse.(Int64, split(line[findfirst(\"x=\", line)[2]+1:findfirst(\"y=\", line)[1]-2],\"..\"))\n",
    "        yrange = parse.(Int64, split(line[findfirst(\"y=\", line)[2]+1:findfirst(\"z=\", line)[1]-2],\"..\"))\n",
    "        zrange = parse.(Int64, split(line[findfirst(\"z=\", line)[2]+1:end],\"..\"))\n",
    "        if init_only && (any(abs.(xrange) .> 50) | any(abs.(yrange) .> 50) | any(abs.(zrange) .> 50))\n",
    "            continue\n",
    "        else\n",
    "            push!(comms, (switch, (xrange[1]:xrange[2], yrange[1]:yrange[2], zrange[1]:zrange[2])))\n",
    "        end\n",
    "    end\n",
    "    return comms\n",
    "end\n",
    "\n",
    "function block_intersect(block1::Block, block2::Block)::Block\n",
    "    # Could short circuit this I suppose\n",
    "    return Tuple(intersect(r1, r2) for (r1, r2) in zip(block1, block2))\n",
    "end\n",
    "\n",
    "function block_size(block::Block)::Int64\n",
    "    return prod(length.(block))\n",
    "end\n",
    "\n",
    "function block_difference(block1::Block, block2::Block)::Vector{Block}\n",
    "    out = Vector{Block}([\n",
    "    # blocks\n",
    "        (block1[1].start:block2[1].start-1, block1[2], block1[3]),\n",
    "        (block2[1].stop+1:block1[1].stop, block1[2], block1[3]),\n",
    "    # slabs\n",
    "        (block2[1], block1[2].start:block2[2].start-1, block1[3]),\n",
    "        (block2[1], block2[2].stop+1:block1[2].stop, block1[3]),\n",
    "    # columns\n",
    "        (block2[1], block2[2], block1[3].start:block2[3].start-1),\n",
    "        (block2[1], block2[2], block2[3].stop+1:block1[3].stop)\n",
    "    ])\n",
    "    return filter(x->block_size(x) > 0, out)\n",
    "end\n",
    "\n",
    "function solve(filename::String, init_only::Bool)::Int64\n",
    "    contiguous_on_ranges = Vector{Block}([])\n",
    "    for comm in commands(filename, init_only=init_only)\n",
    "        nblock = comm[2]\n",
    "        # Replace all other blocks with difference of themselves and intersection with nblock\n",
    "        nranges = Vector{Block}([])\n",
    "        for r in contiguous_on_ranges\n",
    "            int = block_intersect(r, nblock)\n",
    "            if prod(length.(int)) > 0 # There is intersection\n",
    "                append!(nranges, block_difference(r, int))\n",
    "            else\n",
    "                push!(nranges, r)\n",
    "            end\n",
    "        end\n",
    "        contiguous_on_ranges = nranges\n",
    "        # If on command, add nblock too\n",
    "        if comm[1] # On\n",
    "            push!(contiguous_on_ranges, nblock)\n",
    "        end\n",
    "    end\n",
    "    out_sum = sum(block_size, contiguous_on_ranges)\n",
    "    return out_sum\n",
    "end"
   ]
  },
  {
   "cell_type": "markdown",
   "id": "2d816a57",
   "metadata": {},
   "source": [
    "# Part1"
   ]
  },
  {
   "cell_type": "code",
   "execution_count": 60,
   "id": "03dce046",
   "metadata": {},
   "outputs": [
    {
     "name": "stdout",
     "output_type": "stream",
     "text": [
      "Part 1 test: 590784\n",
      "Part 1 solution: 556501\n"
     ]
    }
   ],
   "source": [
    "println(\"Part 1 test: $(solve(\"test1.txt\", true))\")\n",
    "println(\"Part 1 solution: $(solve(\"input.txt\", true))\")"
   ]
  },
  {
   "cell_type": "markdown",
   "id": "ffec86c0",
   "metadata": {},
   "source": [
    "# Part 2"
   ]
  },
  {
   "cell_type": "code",
   "execution_count": 63,
   "id": "ef2b1a38",
   "metadata": {},
   "outputs": [
    {
     "name": "stdout",
     "output_type": "stream",
     "text": [
      "Part 2 test (initialization only): 474140\n",
      "Part 2 test: 2758514936282235\n",
      "Part 2 solution: 1217140271559773\n",
      "  0.458811 seconds (6.08 M allocations: 397.061 MiB, 4.39% gc time)\n"
     ]
    }
   ],
   "source": [
    "println(\"Part 2 test (initialization only): $(solve(\"test2.txt\", true))\")\n",
    "println(\"Part 2 test: $(solve(\"test2.txt\", false))\")\n",
    "@time println(\"Part 2 solution: $(solve(\"input.txt\", false))\")"
   ]
  }
 ],
 "metadata": {
  "kernelspec": {
   "display_name": "Julia 1.6.4",
   "language": "julia",
   "name": "julia-1.6"
  },
  "language_info": {
   "file_extension": ".jl",
   "mimetype": "application/julia",
   "name": "julia",
   "version": "1.6.4"
  }
 },
 "nbformat": 4,
 "nbformat_minor": 5
}
