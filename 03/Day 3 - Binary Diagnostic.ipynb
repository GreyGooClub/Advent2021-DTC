{
 "cells": [
  {
   "cell_type": "code",
   "execution_count": 1,
   "id": "1f76af15-b225-417a-89cc-6ed2b7598c29",
   "metadata": {},
   "outputs": [],
   "source": [
    "using DelimitedFiles"
   ]
  },
  {
   "cell_type": "code",
   "execution_count": 2,
   "id": "4783c3ea-eed0-4bb1-80a7-ecea99bf74d0",
   "metadata": {},
   "outputs": [
    {
     "data": {
      "text/plain": [
       "part1 (generic function with 1 method)"
      ]
     },
     "execution_count": 2,
     "metadata": {},
     "output_type": "execute_result"
    }
   ],
   "source": [
    "function binary_convert(b_arr)\n",
    "    result = 0\n",
    "    for i in length(b_arr):-1:1\n",
    "        if b_arr[i]\n",
    "            bit_ind = length(b_arr) - i\n",
    "            result += 2^bit_ind\n",
    "        end\n",
    "    end\n",
    "    return result\n",
    "end\n",
    "\n",
    "function eg_rates(filename)\n",
    "    data = [parse.(Int64, v) for v in collect.(readdlm(filename, '\\n', String))]\n",
    "    ratio = sum(data) / length(data)\n",
    "    gamma_rate = ratio .> 0.5\n",
    "    epsilon_rate = ratio .< 0.5\n",
    "    return gamma_rate, epsilon_rate\n",
    "end\n",
    "    \n",
    "function part1(filename)\n",
    "    r = eg_rates(filename)\n",
    "    return binary_convert(r[1])*binary_convert(r[2])\n",
    "end"
   ]
  },
  {
   "cell_type": "code",
   "execution_count": 3,
   "id": "7766a4ae-8c15-42af-ab30-64e656a28fae",
   "metadata": {},
   "outputs": [
    {
     "name": "stdout",
     "output_type": "stream",
     "text": [
      "198\n",
      "1071734\n"
     ]
    }
   ],
   "source": [
    "println(part1(\"test.txt\"))\n",
    "println(part1(\"input.txt\"))"
   ]
  },
  {
   "cell_type": "code",
   "execution_count": 4,
   "id": "159c9fd2-ad42-4653-9a19-bbff08fbef26",
   "metadata": {},
   "outputs": [
    {
     "name": "stdout",
     "output_type": "stream",
     "text": [
      "230\n",
      "6124992\n"
     ]
    }
   ],
   "source": [
    "function rating(filename, bit_pref)\n",
    "    data = permutedims(hcat([parse.(Int64, v) for v in collect.(readdlm(filename, '\\n', String))]...))\n",
    "    ind = 1\n",
    "    while size(data)[1] > 1\n",
    "        check = sum(data[:, ind])/size(data)[1]\n",
    "        if check >= 0.5\n",
    "            data = data[data[:, ind] .== bit_pref, :]\n",
    "        elseif check < 0.5\n",
    "            data = data[data[:, ind] .== (bit_pref+1) % 2, :]\n",
    "        end\n",
    "        ind += 1\n",
    "    end\n",
    "    return binary_convert(convert(Array{Bool}, data))\n",
    "end\n",
    "\n",
    "function life_support_rating(filename)\n",
    "    ox_rating = rating(filename, 1)\n",
    "    CO2_scrub_rating = rating(filename, 0)\n",
    "    return ox_rating*CO2_scrub_rating\n",
    "end\n",
    "println(life_support_rating(\"test.txt\"))\n",
    "println(life_support_rating(\"input.txt\"))"
   ]
  }
 ],
 "metadata": {
  "kernelspec": {
   "display_name": "Julia 1.6.4",
   "language": "julia",
   "name": "julia-1.6"
  },
  "language_info": {
   "file_extension": ".jl",
   "mimetype": "application/julia",
   "name": "julia",
   "version": "1.6.4"
  }
 },
 "nbformat": 4,
 "nbformat_minor": 5
}
