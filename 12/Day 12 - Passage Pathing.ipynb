{
 "cells": [
  {
   "cell_type": "code",
   "execution_count": 1,
   "id": "59523a66",
   "metadata": {},
   "outputs": [
    {
     "name": "stdout",
     "output_type": "stream",
     "text": [
      "Part 1 small test: 10\n",
      "Part 1 medium test: 19\n",
      "Part 1 big test: 226\n",
      "Part 1 solution: 5958\n"
     ]
    }
   ],
   "source": [
    "mutable struct Cave\n",
    "    name::String\n",
    "    issmall::Bool\n",
    "    connections::Set{Any}\n",
    "end\n",
    "\n",
    "function cave_system_from_file(filename)\n",
    "    cave_system = Dict([])\n",
    "    for line in readlines(filename)\n",
    "        caves = split(line, '-')\n",
    "        cave1 = Cave(caves[1], all(islowercase.(collect(caves[1]))), Set([caves[2]]))\n",
    "        cave2 = Cave(caves[2], all(islowercase.(collect(caves[2]))), Set([caves[1]]))\n",
    "        for c in [cave1, cave2]\n",
    "            c.connections = filter(cv->(cv!==\"start\"), c.connections)\n",
    "            if !(haskey(cave_system, c.name))\n",
    "                cave_system[c.name] = c\n",
    "            else\n",
    "                push!(cave_system[c.name].connections, c.connections...)\n",
    "            end\n",
    "        end\n",
    "    end\n",
    "    return cave_system\n",
    "end\n",
    "\n",
    "function cave_traverse_part1(cave_name, cave_system::Dict{}, parents)\n",
    "    cave = cave_system[cave_name]\n",
    "    if cave_name == \"end\"\n",
    "        return 1\n",
    "    else\n",
    "        new_parents = vcat(parents, [cave_name])\n",
    "        descend_to = filter(x->(!cave_system[x].issmall | (x ∉ parents)), cave.connections)\n",
    "        # Sum that works on empty iterables\n",
    "        return reduce(+, [cave_traverse_part1(c, cave_system, new_parents) for c in descend_to], init=0)\n",
    "    end\n",
    "end\n",
    "\n",
    "function solve_part1(filename)\n",
    "    cave_sys = cave_system_from_file(filename)\n",
    "    return cave_traverse_part1(\"start\", cave_sys, [])\n",
    "end\n",
    "\n",
    "println(\"Part 1 small test: $(solve_part1(\"small_test.txt\"))\")\n",
    "println(\"Part 1 medium test: $(solve_part1(\"medium_test.txt\"))\")\n",
    "println(\"Part 1 big test: $(solve_part1(\"big_test.txt\"))\")\n",
    "println(\"Part 1 solution: $(solve_part1(\"input.txt\"))\")"
   ]
  },
  {
   "cell_type": "code",
   "execution_count": 2,
   "id": "ae9ae6e0",
   "metadata": {},
   "outputs": [
    {
     "name": "stdout",
     "output_type": "stream",
     "text": [
      "Part 2 small test: 36\n",
      "Part 2 medium test: 103\n"
     ]
    },
    {
     "name": "stdout",
     "output_type": "stream",
     "text": [
      "Part 2 big test: 3509\n"
     ]
    },
    {
     "name": "stdout",
     "output_type": "stream",
     "text": [
      "Part 2 solution: 150426\n"
     ]
    }
   ],
   "source": [
    "function cave_traverse_part2(cave_name, cave_system::Dict{}, parents)\n",
    "    cave = cave_system[cave_name]\n",
    "    if cave_name == \"end\"\n",
    "        return 1\n",
    "    else\n",
    "        new_parents = vcat(parents, [cave_name])\n",
    "        descend_to = filter(x->(!cave_system[x].issmall | (x ∉ parents)), cave.connections)\n",
    "        extra_small_connections = filter(x->(cave_system[x].issmall & (x ∉ [\"start\", \"end\"])), cave.connections)\n",
    "\n",
    "        num_occurrences = []\n",
    "        for c in new_parents \n",
    "            if (cave_system[c].issmall & (c ∉ [\"start\", \"end\"]))\n",
    "                append!(num_occurrences, count(x->(x==c), new_parents))\n",
    "                if num_occurrences[end] > 1\n",
    "                    break # Short circuit for long parent lists\n",
    "                end\n",
    "            end\n",
    "        end\n",
    "        \n",
    "        if all(num_occurrences .<= 1)\n",
    "            if length(extra_small_connections) > 0\n",
    "                union!(descend_to, Set(extra_small_connections))\n",
    "            end\n",
    "        end\n",
    "        # Sum that works on empty iterables\n",
    "        return reduce(+, [cave_traverse_part2(c, cave_system, new_parents) for c in descend_to], init=0)\n",
    "    end\n",
    "end\n",
    "\n",
    "function solve_part2(filename)\n",
    "    cave_sys = cave_system_from_file(filename)\n",
    "    return cave_traverse_part2(\"start\", cave_sys, [])\n",
    "end\n",
    "\n",
    "println(\"Part 2 small test: $(solve_part2(\"small_test.txt\"))\")\n",
    "println(\"Part 2 medium test: $(solve_part2(\"medium_test.txt\"))\")\n",
    "println(\"Part 2 big test: $(solve_part2(\"big_test.txt\"))\")\n",
    "println(\"Part 2 solution: $(solve_part2(\"input.txt\"))\")"
   ]
  }
 ],
 "metadata": {
  "kernelspec": {
   "display_name": "Julia 1.6.4",
   "language": "julia",
   "name": "julia-1.6"
  },
  "language_info": {
   "file_extension": ".jl",
   "mimetype": "application/julia",
   "name": "julia",
   "version": "1.6.4"
  }
 },
 "nbformat": 4,
 "nbformat_minor": 5
}
