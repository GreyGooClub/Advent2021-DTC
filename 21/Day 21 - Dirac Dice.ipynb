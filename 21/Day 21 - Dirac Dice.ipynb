{
 "cells": [
  {
   "cell_type": "code",
   "execution_count": 1,
   "id": "0ad31fbe",
   "metadata": {},
   "outputs": [
    {
     "data": {
      "text/plain": [
       "solve_part1 (generic function with 1 method)"
      ]
     },
     "metadata": {},
     "output_type": "display_data"
    }
   ],
   "source": [
    "function start_positions(filename)\n",
    "    player_positions = Dict([])\n",
    "    for line in readlines(filename)\n",
    "        strs = split(line,:\" starting position: \")\n",
    "        pnum = parse(Int, strs[1][end]) # Single digit player numbers\n",
    "        ppos = parse(Int, strs[2])\n",
    "        player_positions[pnum] = ppos\n",
    "    end\n",
    "    return player_positions\n",
    "\n",
    "end\n",
    "function solve_part1(filename)\n",
    "    player_positions = start_positions(filename)\n",
    "\n",
    "    player_scores = Dict([k=>0 for k in keys(player_positions)])\n",
    "    roll_counter = 0\n",
    "    while all(values(player_scores) .< 1000)\n",
    "        for k in sort([k for k in keys(player_scores)])\n",
    "            nums = [(i+roll_counter - 1) % 100 + 1 for i in 1:3] # Note 100 could be 10 and it works\n",
    "            player_positions[k] = ((player_positions[k] + sum(nums) - 1) % 10) + 1\n",
    "            player_scores[k] += player_positions[k]\n",
    "            roll_counter += 3\n",
    "            if player_scores[k] >= 1000\n",
    "                break\n",
    "            end\n",
    "        end\n",
    "    end\n",
    "    lowest_score = minimum(values(player_scores))\n",
    "    return roll_counter * lowest_score\n",
    "end"
   ]
  },
  {
   "cell_type": "markdown",
   "id": "a3127b7e",
   "metadata": {},
   "source": [
    "# Part 1"
   ]
  },
  {
   "cell_type": "code",
   "execution_count": 2,
   "id": "fba01d13",
   "metadata": {},
   "outputs": [
    {
     "name": "stdout",
     "output_type": "stream",
     "text": [
      "Part 1 test: 739785\n",
      "Part 1 solution: 428736\n"
     ]
    }
   ],
   "source": [
    "println(\"Part 1 test: $(solve_part1(\"test.txt\"))\")\n",
    "println(\"Part 1 solution: $(solve_part1(\"input.txt\"))\")"
   ]
  },
  {
   "cell_type": "code",
   "execution_count": 3,
   "id": "65a9410e",
   "metadata": {},
   "outputs": [
    {
     "data": {
      "text/plain": [
       "solve_part2 (generic function with 1 method)"
      ]
     },
     "metadata": {},
     "output_type": "display_data"
    }
   ],
   "source": [
    "dirac_outcomes = Dict([])\n",
    "for rolls in Iterators.product(1:3,1:3,1:3)\n",
    "    s = sum(rolls)\n",
    "    if s in keys(dirac_outcomes) \n",
    "        dirac_outcomes[s] += 1\n",
    "    else\n",
    "        dirac_outcomes[s] = 1\n",
    "    end\n",
    "end\n",
    "\n",
    "cache = Dict([])\n",
    "function enter_the_multiverse(pos1, pos2, score1, score2)\n",
    "    key = (pos1, pos2, score1, score2)\n",
    "    if haskey(cache, key)\n",
    "        return cache[key]\n",
    "    end\n",
    "    wins1 = 0\n",
    "    wins2 = 0\n",
    "    for (rolled, noutcomes) in dirac_outcomes\n",
    "        npos = ((pos1 + rolled - 1) % 10) + 1\n",
    "        nscore = score1 + npos\n",
    "        if nscore >= 21\n",
    "            wins1 += noutcomes\n",
    "        else \n",
    "            (childwins2, childwins1) = enter_the_multiverse(pos2, npos, score2, nscore)\n",
    "            wins1 += (noutcomes * childwins1)\n",
    "            wins2 += (noutcomes * childwins2)\n",
    "        end\n",
    "    end\n",
    "    result = (wins1, wins2)\n",
    "    cache[key] = result\n",
    "    return result\n",
    "end\n",
    "\n",
    "function solve_part2(filename)\n",
    "    player_positions = start_positions(filename)\n",
    "    return maximum(enter_the_multiverse(player_positions[1], player_positions[2], 0, 0))\n",
    "end"
   ]
  },
  {
   "cell_type": "markdown",
   "id": "797421bc",
   "metadata": {},
   "source": [
    "# Part 2"
   ]
  },
  {
   "cell_type": "code",
   "execution_count": 4,
   "id": "ecbc4214",
   "metadata": {},
   "outputs": [
    {
     "name": "stdout",
     "output_type": "stream",
     "text": [
      "Part 2 test: 444356092776315\n",
      "Part 2 solution: 57328067654557\n"
     ]
    }
   ],
   "source": [
    "println(\"Part 2 test: $(solve_part2(\"test.txt\"))\")\n",
    "println(\"Part 2 solution: $(solve_part2(\"input.txt\"))\")"
   ]
  }
 ],
 "metadata": {
  "kernelspec": {
   "display_name": "Julia 1.6.4",
   "language": "julia",
   "name": "julia-1.6"
  },
  "language_info": {
   "file_extension": ".jl",
   "mimetype": "application/julia",
   "name": "julia",
   "version": "1.6.4"
  }
 },
 "nbformat": 4,
 "nbformat_minor": 5
}
