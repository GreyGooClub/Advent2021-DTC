{
 "cells": [
  {
   "cell_type": "code",
   "execution_count": 1,
   "id": "4faa3921",
   "metadata": {},
   "outputs": [
    {
     "data": {
      "text/plain": [
       "synthesize_polymers (generic function with 1 method)"
      ]
     },
     "execution_count": 1,
     "metadata": {},
     "output_type": "execute_result"
    }
   ],
   "source": [
    "function parse_input(filename)\n",
    "    lines = readlines(filename)\n",
    "    template = lines[1]\n",
    "    rules = lines[3:end]\n",
    "    rules_dict = Dict([])\n",
    "    for r in rules\n",
    "        r = split(r, \" -> \")\n",
    "        rules_dict[String(r[1])] = [join([r[1][1], r[2]]), join([r[2], r[1][2]])]\n",
    "    end\n",
    "    return template, rules_dict\n",
    "end\n",
    "\n",
    "function pair_counter_to_char_counter(pcount)\n",
    "    chars = unique(join(vcat(convert.(String, keys(pcount)))))\n",
    "    cdict = Dict(c=>0 for c in chars)\n",
    "    for (k,v) in pcount\n",
    "        cdict[k[2]] += v\n",
    "    end\n",
    "    return cdict\n",
    "end\n",
    "\n",
    "function pairs_from_string(str)\n",
    "    return [join([str[i], str[i+1]]) for i in 1:length(str)-1]\n",
    "end\n",
    "\n",
    "function synthesize_polymers(filename, nsteps)\n",
    "\n",
    "    template, rules_dict = parse_input(filename)\n",
    "\n",
    "    pair_counter = Dict(r=>0 for r in keys(rules_dict))\n",
    "    for p in pairs_from_string(template)\n",
    "        pair_counter[p] += 1\n",
    "    end\n",
    "\n",
    "    for i=1:nsteps\n",
    "        npc = Dict(r=>0 for r in keys(rules_dict))\n",
    "        for (k, pck) in pair_counter\n",
    "            for p in rules_dict[k]\n",
    "                npc[p] += pck\n",
    "            end\n",
    "        end\n",
    "        pair_counter = npc\n",
    "    end\n",
    "\n",
    "    char_count = pair_counter_to_char_counter(pair_counter)\n",
    "    char_count[template[1]] += 1\n",
    "    char_count\n",
    "\n",
    "    return maximum(values(char_count)) - minimum(values(char_count))\n",
    "end"
   ]
  },
  {
   "cell_type": "code",
   "execution_count": 2,
   "id": "78abe22d",
   "metadata": {},
   "outputs": [
    {
     "name": "stdout",
     "output_type": "stream",
     "text": [
      "Part 1 test: 1588\n",
      "Part 1 solution: 3906\n",
      "Part 2 test: 2188189693529\n",
      "Part 2 solution : 4441317262452\n"
     ]
    }
   ],
   "source": [
    "println(\"Part 1 test: $(synthesize_polymers(\"test.txt\", 10))\")\n",
    "println(\"Part 1 solution: $(synthesize_polymers(\"input.txt\", 10))\")\n",
    "\n",
    "println(\"Part 2 test: $(synthesize_polymers(\"test.txt\", 40))\")\n",
    "println(\"Part 2 solution : $(synthesize_polymers(\"input.txt\", 40))\")"
   ]
  }
 ],
 "metadata": {
  "kernelspec": {
   "display_name": "Julia 1.6.4",
   "language": "julia",
   "name": "julia-1.6"
  },
  "language_info": {
   "file_extension": ".jl",
   "mimetype": "application/julia",
   "name": "julia",
   "version": "1.6.4"
  }
 },
 "nbformat": 4,
 "nbformat_minor": 5
}
