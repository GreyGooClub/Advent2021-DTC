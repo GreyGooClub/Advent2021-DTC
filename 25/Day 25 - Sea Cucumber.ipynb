{
 "cells": [
  {
   "cell_type": "code",
   "execution_count": 1,
   "id": "04073db3",
   "metadata": {},
   "outputs": [
    {
     "data": {
      "text/plain": [
       "solve (generic function with 1 method)"
      ]
     },
     "execution_count": 1,
     "metadata": {},
     "output_type": "execute_result"
    }
   ],
   "source": [
    "function solve(filename)\n",
    "    state = permutedims(hcat(collect.(readlines(filename))...))\n",
    "    steps = 1\n",
    "    while true\n",
    "        # East facing\n",
    "        empty_locations = state .== '.'\n",
    "        east_cucumbers = state .== '>'\n",
    "        pot_move = circshift(east_cucumbers, (0, 1))\n",
    "        new_east = @. pot_move & empty_locations\n",
    "        state[new_east] .= '>'\n",
    "        state[circshift(new_east, (0, -1))] .= '.'\n",
    "\n",
    "        # South facing\n",
    "        empty_locations = state .== '.'\n",
    "        south_cucumbers = state .== 'v'\n",
    "        pot_move = circshift(south_cucumbers, (1, 0))\n",
    "        new_south = @. pot_move & empty_locations\n",
    "        state[new_south] .= 'v'\n",
    "        state[circshift(new_south, (-1, 0))] .= '.'\n",
    "\n",
    "        if !any(new_east) && !any(new_south)\n",
    "            break\n",
    "        else\n",
    "            steps += 1\n",
    "        end \n",
    "    end\n",
    "    return steps\n",
    "end"
   ]
  },
  {
   "cell_type": "code",
   "execution_count": 2,
   "id": "7b668d5b",
   "metadata": {},
   "outputs": [
    {
     "name": "stdout",
     "output_type": "stream",
     "text": [
      "Test: 58\n",
      "Solution: 456\n"
     ]
    }
   ],
   "source": [
    "println(\"Test: $(solve(\"test.txt\"))\")\n",
    "println(\"Solution: $(solve(\"input.txt\"))\")"
   ]
  }
 ],
 "metadata": {
  "kernelspec": {
   "display_name": "Julia 1.6.4",
   "language": "julia",
   "name": "julia-1.6"
  },
  "language_info": {
   "file_extension": ".jl",
   "mimetype": "application/julia",
   "name": "julia",
   "version": "1.6.4"
  }
 },
 "nbformat": 4,
 "nbformat_minor": 5
}
