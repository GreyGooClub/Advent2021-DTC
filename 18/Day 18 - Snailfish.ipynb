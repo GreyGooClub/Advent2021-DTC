{
 "cells": [
  {
   "cell_type": "code",
   "execution_count": 1,
   "id": "1f76af15-b225-417a-89cc-6ed2b7598c29",
   "metadata": {},
   "outputs": [
    {
     "data": {
      "text/plain": [
       "snailfish_add (generic function with 1 method)"
      ]
     },
     "execution_count": 1,
     "metadata": {},
     "output_type": "execute_result"
    }
   ],
   "source": [
    "function snailfish_explode(num)\n",
    "    exploded = false\n",
    "    counter = 0\n",
    "    for (i, c) in enumerate(num)\n",
    "        counter += c == '[' ? 1 : 0\n",
    "        counter -= c == ']' ? 1 : 0\n",
    "        if counter == 5\n",
    "            end_explode = findnext(collect(num) .== ']', i)\n",
    "            i = findlast(collect(num[1:end_explode]) .== '[')\n",
    "            to_explode = num[i:end_explode]\n",
    "            el, er = parse.(Int, split(to_explode[2:end-1], ','))\n",
    "            left = num[1:i-1]\n",
    "            # No findlast(::RegEx, ...) for some reason\n",
    "            inds_left = findall(r\"\\d+\", left)\n",
    "            if length(inds_left) >= 1\n",
    "                inds_left = inds_left[end]\n",
    "                value = parse(Int, left[inds_left]) + el\n",
    "                left = left[1:inds_left.start-1] * \"$value\" * left[inds_left.stop+1:end]\n",
    "            end\n",
    "            right = num[end_explode+1:end]\n",
    "            inds_right = findfirst(r\"\\d+\", right)\n",
    "            if inds_right != nothing\n",
    "                value = parse(Int, right[inds_right]) + er\n",
    "                right = right[1:inds_right.start-1] * \"$value\" * right[inds_right.stop+1:end]\n",
    "            end\n",
    "            num = left * '0' * right\n",
    "            exploded = true\n",
    "            break\n",
    "        end\n",
    "    end\n",
    "    return exploded, num\n",
    "end\n",
    "\n",
    "function snailfish_split(num)\n",
    "    inds = findfirst(r\"\\d{2}\", num)\n",
    "    if inds == nothing\n",
    "        return false, num\n",
    "    else\n",
    "        value = parse(Int, num[inds])\n",
    "        new = \"[$(value ÷ 2),$(Int(ceil(value / 2)))]\"\n",
    "        num = num[1:inds.start-1] * new * num[inds.stop+1:end]\n",
    "        return true, num\n",
    "    end\n",
    "end\n",
    "\n",
    "function split_pair(num)\n",
    "    counter, i= 0, 0\n",
    "    for (i, c) in enumerate(num)\n",
    "        if c==',' && counter == 1\n",
    "            return num[2:i-1], num[i+1:end-1]\n",
    "        end\n",
    "        counter += c == '[' ? 1 : 0\n",
    "        counter -= c == ']' ? 1 : 0\n",
    "    end\n",
    "end\n",
    "\n",
    "function magnitude(num)\n",
    "    if ',' ∉ num\n",
    "        return parse(Int, num)\n",
    "    else\n",
    "        p = split_pair(num)\n",
    "        return 3*magnitude(p[1]) + 2*magnitude(p[2])\n",
    "    end\n",
    "end\n",
    "\n",
    "function snailfish_reduce(num)\n",
    "    actions_done = true\n",
    "    while actions_done\n",
    "        expl, num = snailfish_explode(num)\n",
    "        if expl\n",
    "            continue\n",
    "        end\n",
    "        split, num = snailfish_split(num)\n",
    "        actions_done = expl | split\n",
    "    end\n",
    "    return num\n",
    "end\n",
    "\n",
    "function snailfish_add(first, second)\n",
    "    out = *('[', first, ',', second, ']')\n",
    "    return snailfish_reduce(out)\n",
    "end"
   ]
  },
  {
   "cell_type": "code",
   "execution_count": 2,
   "id": "a1aee6e6",
   "metadata": {},
   "outputs": [
    {
     "name": "stdout",
     "output_type": "stream",
     "text": [
      "Part 1 test: 4140\n",
      "Part 1 solution: 4017\n"
     ]
    }
   ],
   "source": [
    "function solve_part1(filename)\n",
    "    lines = readlines(filename)\n",
    "    return magnitude(reduce(snailfish_add, lines))\n",
    "end\n",
    "println(\"Part 1 test: $(solve_part1(\"test.txt\"))\")\n",
    "println(\"Part 1 solution: $(solve_part1(\"input.txt\"))\")"
   ]
  },
  {
   "cell_type": "code",
   "execution_count": 3,
   "id": "96e12de1",
   "metadata": {},
   "outputs": [
    {
     "name": "stdout",
     "output_type": "stream",
     "text": [
      "Part 2 test: 3993\n",
      "Part 2 solution: 4583\n"
     ]
    }
   ],
   "source": [
    "function solve_part2(filename)\n",
    "    mags = []\n",
    "    lines = readlines(filename)\n",
    "    for l1 in lines\n",
    "        for l2 in lines\n",
    "            if l1 != l2\n",
    "                push!(mags, magnitude(snailfish_add(l1, l2)))\n",
    "            end\n",
    "        end\n",
    "    end\n",
    "    return maximum(mags)\n",
    "end\n",
    "println(\"Part 2 test: $(solve_part2(\"test.txt\"))\")\n",
    "println(\"Part 2 solution: $(solve_part2(\"input.txt\"))\")"
   ]
  }
 ],
 "metadata": {
  "kernelspec": {
   "display_name": "Julia 1.6.4",
   "language": "julia",
   "name": "julia-1.6"
  },
  "language_info": {
   "file_extension": ".jl",
   "mimetype": "application/julia",
   "name": "julia",
   "version": "1.6.4"
  }
 },
 "nbformat": 4,
 "nbformat_minor": 5
}
