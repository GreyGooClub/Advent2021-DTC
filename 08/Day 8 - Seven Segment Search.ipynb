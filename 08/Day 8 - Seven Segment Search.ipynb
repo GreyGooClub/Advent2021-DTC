{
 "cells": [
  {
   "cell_type": "code",
   "execution_count": 1,
   "id": "1f76af15-b225-417a-89cc-6ed2b7598c29",
   "metadata": {},
   "outputs": [],
   "source": [
    "using DelimitedFiles"
   ]
  },
  {
   "cell_type": "code",
   "execution_count": 2,
   "id": "b105ef6c",
   "metadata": {},
   "outputs": [
    {
     "data": {
      "text/plain": [
       "parse_input (generic function with 1 method)"
      ]
     },
     "execution_count": 2,
     "metadata": {},
     "output_type": "execute_result"
    }
   ],
   "source": [
    "function parse_input(filename)\n",
    "    data = readdlm(filename, '|', String)\n",
    "    input = join.(sort.(collect.((String.(permutedims(hcat((split.(strip.(data[:, 1], ' '))...))))))))\n",
    "    output = join.(sort.(collect.((String.(permutedims(hcat((split.(strip.(data[:, 2], ' '))...))))))))\n",
    "    return input, output\n",
    "end"
   ]
  },
  {
   "cell_type": "markdown",
   "id": "c2d81442",
   "metadata": {},
   "source": [
    "# Part 1"
   ]
  },
  {
   "cell_type": "code",
   "execution_count": 3,
   "id": "82a6a544",
   "metadata": {},
   "outputs": [
    {
     "name": "stdout",
     "output_type": "stream",
     "text": [
      "Test: 26\n",
      "Solution: 548\n"
     ]
    }
   ],
   "source": [
    "function solve_part1(filename)\n",
    "    output = parse_input(filename)[2]\n",
    "    output_segment_lengths = permutedims(hcat([length.(o) for o in output]...))\n",
    "    return count((output_segment_lengths .== 2) .| \n",
    "                 (output_segment_lengths .== 4) .| \n",
    "                 (output_segment_lengths .== 3) .| \n",
    "                 (output_segment_lengths .== 7))\n",
    "end\n",
    "\n",
    "println(\"Test: $(solve_part1(\"test.txt\"))\")\n",
    "println(\"Solution: $(solve_part1(\"input.txt\"))\")"
   ]
  },
  {
   "cell_type": "markdown",
   "id": "ac1e0cba",
   "metadata": {},
   "source": [
    "# Part 2"
   ]
  },
  {
   "cell_type": "code",
   "execution_count": 4,
   "id": "d151380e",
   "metadata": {},
   "outputs": [
    {
     "data": {
      "text/plain": [
       "decode_output (generic function with 1 method)"
      ]
     },
     "execution_count": 4,
     "metadata": {},
     "output_type": "execute_result"
    }
   ],
   "source": [
    "function identify_digits(digits)\n",
    "    out_map = Dict([])\n",
    "    out_map[1] = digits[length.(digits) .== 2][1]\n",
    "    out_map[4] = digits[length.(digits) .== 4][1]\n",
    "    out_map[7] = digits[length.(digits) .== 3][1]\n",
    "    out_map[8] = digits[length.(digits) .== 7][1]\n",
    "    fives = digits[length.(digits) .== 5]\n",
    "    sixes = digits[length.(digits) .== 6]\n",
    "    # 6: length six without full overlap with 7\n",
    "    out_map[6] = sixes[length.(intersect.(sixes, out_map[7])) .!= 3][1]\n",
    "    filter!(e->e ≠ out_map[6], sixes) # remove from sixes\n",
    "    # 9: of remaining length six that has full overlap with 4\n",
    "    out_map[9] = sixes[length.(intersect.(sixes, out_map[4])) .== 4][1]\n",
    "    filter!(e->e ≠ out_map[9], sixes) # remove from sixes\n",
    "    # 0: only length six left\n",
    "    out_map[0] = sixes[1]\n",
    "    # 3: only length five with full overlap with 1\n",
    "    out_map[3] = fives[length.(intersect.(fives, out_map[1])) .== 2][1]\n",
    "    filter!(e->e ≠ out_map[3], fives) # remove from fives\n",
    "    # 5: only remaining length five with 3 overlap with 4\n",
    "    out_map[5] = fives[length.(intersect.(fives, out_map[4])) .== 3][1]\n",
    "    filter!(e->e ≠ out_map[5], fives)\n",
    "    # 2: only remaining length 5\n",
    "    out_map[2] = fives[1]\n",
    "    # Reverse to code=>value\n",
    "    return Dict(v=>k for (k,v) in out_map)\n",
    "end\n",
    "\n",
    "function decode_output(digit_map, output)\n",
    "    return parse(Int, join([repr(digit_map[d]) for d in output]))\n",
    "end"
   ]
  },
  {
   "cell_type": "code",
   "execution_count": 5,
   "id": "d4be2201",
   "metadata": {},
   "outputs": [
    {
     "name": "stdout",
     "output_type": "stream",
     "text": [
      "Test: 61229\n",
      "Solution: 1074888\n"
     ]
    }
   ],
   "source": [
    "function solve_part2(filename)\n",
    "    (input, output) = parse_input(filename)\n",
    "    total = 0\n",
    "    for i=1:size(input)[1]\n",
    "        digit_map = identify_digits(input[i, :])\n",
    "        total += decode_output(digit_map, output[i, :])\n",
    "    end\n",
    "    return total\n",
    "end\n",
    "\n",
    "println(\"Test: $(solve_part2(\"test.txt\"))\")\n",
    "println(\"Solution: $(solve_part2(\"input.txt\"))\")"
   ]
  }
 ],
 "metadata": {
  "kernelspec": {
   "display_name": "Julia 1.6.4",
   "language": "julia",
   "name": "julia-1.6"
  },
  "language_info": {
   "file_extension": ".jl",
   "mimetype": "application/julia",
   "name": "julia",
   "version": "1.6.4"
  }
 },
 "nbformat": 4,
 "nbformat_minor": 5
}
