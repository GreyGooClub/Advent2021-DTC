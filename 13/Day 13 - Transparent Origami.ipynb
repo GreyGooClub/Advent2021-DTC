{
 "cells": [
  {
   "cell_type": "code",
   "execution_count": 1,
   "id": "1f76af15-b225-417a-89cc-6ed2b7598c29",
   "metadata": {},
   "outputs": [
    {
     "data": {
      "text/plain": [
       "loadfile (generic function with 1 method)"
      ]
     },
     "execution_count": 1,
     "metadata": {},
     "output_type": "execute_result"
    }
   ],
   "source": [
    "function loadfile(filename)\n",
    "    lines = readlines(filename)\n",
    "    splitat = findall(x->x==\"\", lines)[1]\n",
    "    folds = lines[splitat+1:end]\n",
    "    coords = parse.(Int, permutedims(hcat(split.(lines[1:(splitat-1)], ',')...)))[:, end:-1:1] .+ 1\n",
    "    paper = zeros(Bool, maximum(coords[:,1]), maximum(coords[:,2]))\n",
    "    for row in eachrow(coords)\n",
    "        paper[CartesianIndex(row[1], row[2])] = true\n",
    "    end\n",
    "    return paper, folds\n",
    "end"
   ]
  },
  {
   "cell_type": "code",
   "execution_count": 2,
   "id": "9a474310",
   "metadata": {},
   "outputs": [
    {
     "data": {
      "text/plain": [
       "solve (generic function with 1 method)"
      ]
     },
     "execution_count": 2,
     "metadata": {},
     "output_type": "execute_result"
    }
   ],
   "source": [
    "function solve(paper, folds; part1=true)\n",
    "    for f in folds\n",
    "        instr, value = split(f, '=')\n",
    "        value = parse(Int, value) + 1 # I have 1indices\n",
    "        if instr[end] == 'x'\n",
    "            npaper = paper[1:end, 1:value-1]\n",
    "            fold = paper[1:end, end:-1:value+1]\n",
    "            npaper[1:end, end-(size(fold)[2])+1:end] .|= fold\n",
    "        elseif instr[end] == 'y'\n",
    "            npaper = paper[1:value-1, 1:end]\n",
    "            fold = paper[end:-1:value+1, 1:end]\n",
    "            npaper[end-(size(fold)[1])+1:end, 1:end] .|= fold\n",
    "        else\n",
    "            println(\"Parse Error\")\n",
    "        end\n",
    "        if part1\n",
    "            return sum(npaper)\n",
    "        end\n",
    "        paper = npaper\n",
    "    end\n",
    "    return paper\n",
    "end"
   ]
  },
  {
   "cell_type": "code",
   "execution_count": 3,
   "id": "27ba979b",
   "metadata": {},
   "outputs": [
    {
     "name": "stdout",
     "output_type": "stream",
     "text": [
      "Part 1 test: 17\n",
      "Part 1 solution: 675\n"
     ]
    }
   ],
   "source": [
    "println(\"Part 1 test: $(solve(loadfile(\"test.txt\")..., part1=true))\")\n",
    "println(\"Part 1 solution: $(solve(loadfile(\"input.txt\")..., part1=true))\")"
   ]
  },
  {
   "cell_type": "code",
   "execution_count": 4,
   "id": "3963175d",
   "metadata": {},
   "outputs": [
    {
     "name": "stdout",
     "output_type": "stream",
     "text": [
      "Part 2 solution:\n"
     ]
    },
    {
     "data": {
      "text/plain": [
       "6-element Vector{String}:\n",
       " \"█  █ ████ █  █ █  █ ████ ████   ██ ████ \"\n",
       " \"█  █    █ █ █  █  █ █    █       █    █ \"\n",
       " \"████   █  ██   ████ ███  ███     █   █  \"\n",
       " \"█  █  █   █ █  █  █ █    █       █  █   \"\n",
       " \"█  █ █    █ █  █  █ █    █    █  █ █    \"\n",
       " \"█  █ ████ █  █ █  █ █    ████  ██  ████ \""
      ]
     },
     "execution_count": 4,
     "metadata": {},
     "output_type": "execute_result"
    }
   ],
   "source": [
    "function format_result(folded_paper)\n",
    "    output = fill(' ', size(folded_paper))\n",
    "    output[folded_paper] .= '█'\n",
    "    return String.(cat([output[i, :] for i in 1:size(output)[1]], dims=1))\n",
    "end\n",
    "println(\"Part 2 solution:\")\n",
    "format_result(solve(loadfile(\"input.txt\")..., part1=false))"
   ]
  }
 ],
 "metadata": {
  "kernelspec": {
   "display_name": "Julia 1.6.4",
   "language": "julia",
   "name": "julia-1.6"
  },
  "language_info": {
   "file_extension": ".jl",
   "mimetype": "application/julia",
   "name": "julia",
   "version": "1.6.4"
  }
 },
 "nbformat": 4,
 "nbformat_minor": 5
}
