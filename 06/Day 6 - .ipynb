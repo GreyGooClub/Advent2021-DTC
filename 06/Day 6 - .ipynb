{
 "cells": [
  {
   "cell_type": "code",
   "execution_count": 2,
   "id": "1f76af15-b225-417a-89cc-6ed2b7598c29",
   "metadata": {},
   "outputs": [],
   "source": [
    "using DelimitedFiles"
   ]
  },
  {
   "cell_type": "code",
   "execution_count": 3,
   "id": "585fe1f3",
   "metadata": {},
   "outputs": [
    {
     "data": {
      "text/plain": [
       "solution (generic function with 2 methods)"
      ]
     },
     "execution_count": 3,
     "metadata": {},
     "output_type": "execute_result"
    }
   ],
   "source": [
    "function number_spawned(start_period, start_day, ndays; spawn_rate=7, cache=Dict())\n",
    "\n",
    "    if (start_period, start_day, ndays) in keys(cache)\n",
    "        return cache[start_period, start_day, ndays]\n",
    "    end\n",
    "\n",
    "    spawns = Int128(0)\n",
    "    timer = start_period\n",
    "    for days_passed in start_day:ndays\n",
    "        timer -= 1\n",
    "        if (timer == 0) & (days_passed != ndays)\n",
    "            timer += spawn_rate\n",
    "            spawns += (1 + number_spawned(8, days_passed+2, ndays, cache=cache))\n",
    "        end\n",
    "    end\n",
    "    cache[start_period, start_day, ndays] = spawns\n",
    "    return spawns\n",
    "end\n",
    "\n",
    "function solution(filename, ndays, cache=Dict([]))\n",
    "    initial_state = readdlm(filename, ',', Int)\n",
    "    unique_values = Dict(i=>number_spawned(i, 1, ndays, cache=cache) for i=1:5)\n",
    "    return sum([unique_values[i] for i in initial_state]) + length(initial_state)\n",
    "end"
   ]
  },
  {
   "cell_type": "markdown",
   "id": "1c95e387",
   "metadata": {},
   "source": [
    "# Part 1"
   ]
  },
  {
   "cell_type": "code",
   "execution_count": 4,
   "id": "48b09f8f",
   "metadata": {},
   "outputs": [
    {
     "name": "stdout",
     "output_type": "stream",
     "text": [
      "Test 1): 26\n",
      "Test 2): 5934\n",
      "Solution: 354564\n"
     ]
    }
   ],
   "source": [
    "println(\"Test 1): $(solution(\"test.txt\", 18))\")\n",
    "println(\"Test 2): $(solution(\"test.txt\", 80))\")\n",
    "println(\"Solution: $(solution(\"input.txt\", 80))\")"
   ]
  },
  {
   "cell_type": "markdown",
   "id": "b8bdf535",
   "metadata": {},
   "source": [
    "# Part 2"
   ]
  },
  {
   "cell_type": "code",
   "execution_count": 5,
   "id": "a80796e1",
   "metadata": {},
   "outputs": [
    {
     "name": "stdout",
     "output_type": "stream",
     "text": [
      "Test: 26984457539\n",
      "Solution: 1609058859115\n"
     ]
    }
   ],
   "source": [
    "println(\"Test: $(solution(\"test.txt\", 256))\")\n",
    "println(\"Solution: $(solution(\"input.txt\", 256))\")"
   ]
  }
 ],
 "metadata": {
  "kernelspec": {
   "display_name": "Julia 1.6.4",
   "language": "julia",
   "name": "julia-1.6"
  },
  "language_info": {
   "file_extension": ".jl",
   "mimetype": "application/julia",
   "name": "julia",
   "version": "1.6.4"
  }
 },
 "nbformat": 4,
 "nbformat_minor": 5
}
