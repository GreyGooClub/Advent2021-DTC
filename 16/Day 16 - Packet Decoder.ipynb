{
 "cells": [
  {
   "cell_type": "code",
   "execution_count": 1,
   "id": "1f76af15-b225-417a-89cc-6ed2b7598c29",
   "metadata": {},
   "outputs": [
    {
     "data": {
      "text/plain": [
       "parse_packet (generic function with 1 method)"
      ]
     },
     "metadata": {},
     "output_type": "display_data"
    }
   ],
   "source": [
    "mutable struct BITSPacket\n",
    "    version::Int\n",
    "    type_id::Int\n",
    "    payload::Any\n",
    "end\n",
    "\n",
    "function binary_str2int(str::String)\n",
    "    out = 0\n",
    "    for (i,c) in enumerate(reverse(str))\n",
    "        out += parse(Int, c) * 2^(i-1)\n",
    "    end\n",
    "    return out\n",
    "end\n",
    "\n",
    "hexdex_table = Dict([\n",
    "    '0' => \"0000\",\n",
    "    '1' => \"0001\",\n",
    "    '2' => \"0010\",\n",
    "    '3' => \"0011\",\n",
    "    '4' => \"0100\",\n",
    "    '5' => \"0101\",\n",
    "    '6' => \"0110\",\n",
    "    '7' => \"0111\",\n",
    "    '8' => \"1000\",\n",
    "    '9' => \"1001\",\n",
    "    'A' => \"1010\",\n",
    "    'B' => \"1011\",\n",
    "    'C' => \"1100\",\n",
    "    'D' => \"1101\",\n",
    "    'E' => \"1110\",\n",
    "    'F' => \"1111\",\n",
    "])\n",
    "\n",
    "function binary_input(filename)\n",
    "    output = []\n",
    "    for line in readlines(filename)\n",
    "        decoded = \"\"\n",
    "        for c in line\n",
    "            decoded *= hexdex_table[c]\n",
    "        end\n",
    "        append!(output, [line=>decoded,])\n",
    "    end\n",
    "    return output\n",
    "end\n",
    "\n",
    "function parse_packet(input::String)\n",
    "    version = binary_str2int(input[1:3])\n",
    "    type_id = binary_str2int(input[4:6])\n",
    "    index = 7\n",
    "    if type_id == 4\n",
    "        payload_str = \"\"\n",
    "        while true\n",
    "            payload_str *= input[index+1:index+5-1] \n",
    "            index += 5\n",
    "            if input[index-5] == '0'\n",
    "                break\n",
    "            end\n",
    "        end\n",
    "        payload = binary_str2int(payload_str)\n",
    "    else\n",
    "        length_type_id = input[index]\n",
    "        if length_type_id == '0'\n",
    "            subpacket_length = binary_str2int(input[index+1:index+15])\n",
    "            subpacket_input = input[index+16:index+16+subpacket_length-1]\n",
    "            subpackets = []\n",
    "            while length(subpacket_input) > 0\n",
    "                subpacket_input, sp = parse_packet(subpacket_input)\n",
    "                append!(subpackets, [sp,])\n",
    "            end\n",
    "            index = index+16+subpacket_length\n",
    "            payload = subpackets\n",
    "        elseif length_type_id == '1'\n",
    "            nsubpackets_left = binary_str2int(input[index+1:index+11])\n",
    "            subpacket_input = input[index+12:end]\n",
    "            initial_length = length(subpacket_input)\n",
    "            subpacket_length = length(subpacket_input)\n",
    "            index = index + 12\n",
    "            subpackets = []\n",
    "            while nsubpackets_left > 0\n",
    "                subpacket_input, sp = parse_packet(subpacket_input)\n",
    "                nsubpackets_left -= 1\n",
    "                append!(subpackets, [sp,])\n",
    "            end\n",
    "            index += initial_length - length(subpacket_input)\n",
    "            payload = subpackets\n",
    "        end\n",
    "    end\n",
    "    return input[index:end], BITSPacket(version, type_id, payload)\n",
    "end"
   ]
  },
  {
   "cell_type": "code",
   "execution_count": 2,
   "id": "6dc9ebdb",
   "metadata": {},
   "outputs": [
    {
     "name": "stdout",
     "output_type": "stream",
     "text": [
      "Part 1 Tests:\n",
      "-------------\n"
     ]
    },
    {
     "name": "stdout",
     "output_type": "stream",
     "text": [
      "8A004A801A8002F478: 16\n",
      "620080001611562C8802118E34: 12\n",
      "C0015000016115A2E0802F182340: 23\n",
      "A0016C880162017C3686B18A3D4780: 31\n",
      "-------------\n"
     ]
    },
    {
     "name": "stdout",
     "output_type": "stream",
     "text": [
      "Part 1 solution: 965\n"
     ]
    }
   ],
   "source": [
    "function sum_versions(res)\n",
    "    version_sum = res.version\n",
    "    if typeof(res.payload) != Int\n",
    "        for subpacket in res.payload\n",
    "            version_sum += sum_versions(subpacket)\n",
    "        end\n",
    "    end\n",
    "    return version_sum\n",
    "end\n",
    "\n",
    "println(\"Part 1 Tests:\")\n",
    "println(\"-\"^13)\n",
    "for (input, bin) in binary_input(\"test1.txt\")\n",
    "    result = parse_packet(bin)\n",
    "    println(\"$input: $(sum_versions(result[2]))\")\n",
    "end\n",
    "println(\"-\"^13)\n",
    "input = binary_input(\"input.txt\")[1][2]\n",
    "println(\"Part 1 solution: $(sum_versions(parse_packet(input)[2]))\")"
   ]
  },
  {
   "cell_type": "code",
   "execution_count": 3,
   "id": "ade3882a",
   "metadata": {},
   "outputs": [
    {
     "data": {
      "text/plain": [
       "evaluate_packet (generic function with 1 method)"
      ]
     },
     "metadata": {},
     "output_type": "display_data"
    }
   ],
   "source": [
    "function evaluate_packet(p)\n",
    "    if typeof(p.payload) == Int\n",
    "        return p.payload\n",
    "    elseif p.type_id == 0\n",
    "        return sum([evaluate_packet(ip) for ip in p.payload])\n",
    "    elseif p.type_id == 1\n",
    "        return prod([evaluate_packet(ip) for ip in p.payload])\n",
    "    elseif p.type_id == 2\n",
    "        return minimum([evaluate_packet(ip) for ip in p.payload])\n",
    "    elseif p.type_id == 3\n",
    "        return maximum([evaluate_packet(ip) for ip in p.payload])\n",
    "    elseif p.type_id == 5\n",
    "        return Int(evaluate_packet(p.payload[1]) > evaluate_packet(p.payload[2]))\n",
    "    elseif p.type_id == 6\n",
    "        return Int(evaluate_packet(p.payload[1]) < evaluate_packet(p.payload[2]))\n",
    "    elseif p.type_id == 7\n",
    "        return Int(evaluate_packet(p.payload[1]) == evaluate_packet(p.payload[2]))\n",
    "    end\n",
    "end"
   ]
  },
  {
   "cell_type": "code",
   "execution_count": 4,
   "id": "bb7cfccf",
   "metadata": {},
   "outputs": [
    {
     "name": "stdout",
     "output_type": "stream",
     "text": [
      "Part 2 Tests:\n",
      "-------------\n"
     ]
    },
    {
     "name": "stdout",
     "output_type": "stream",
     "text": [
      "C200B40A82: 3\n",
      "04005AC33890: 54\n",
      "880086C3E88112: 7\n",
      "CE00C43D881120: 9\n",
      "D8005AC2A8F0: 1\n",
      "F600BC2D8F: 0\n",
      "9C005AC2F8F0: 0\n",
      "9C0141080250320F1802104A08: 1\n",
      "-------------\n",
      "Part 2 solution: 116672213160\n"
     ]
    }
   ],
   "source": [
    "println(\"Part 2 Tests:\")\n",
    "println(\"-\"^13)\n",
    "for (input, bin) in binary_input(\"test2.txt\")\n",
    "    result = parse_packet(bin)\n",
    "    println(\"$input: $(evaluate_packet(result[2]))\")\n",
    "end\n",
    "println(\"-\"^13)\n",
    "input = binary_input(\"input.txt\")[1][2]\n",
    "println(\"Part 2 solution: $(evaluate_packet(parse_packet(input)[2]))\")"
   ]
  }
 ],
 "metadata": {
  "kernelspec": {
   "display_name": "Julia 1.6.4",
   "language": "julia",
   "name": "julia-1.6"
  },
  "language_info": {
   "file_extension": ".jl",
   "mimetype": "application/julia",
   "name": "julia",
   "version": "1.6.4"
  }
 },
 "nbformat": 4,
 "nbformat_minor": 5
}
