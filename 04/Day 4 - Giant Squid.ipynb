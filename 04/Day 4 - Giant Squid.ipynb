{
 "cells": [
  {
   "cell_type": "code",
   "execution_count": 1,
   "id": "1f76af15-b225-417a-89cc-6ed2b7598c29",
   "metadata": {},
   "outputs": [],
   "source": [
    "using DelimitedFiles"
   ]
  },
  {
   "cell_type": "code",
   "execution_count": 2,
   "id": "019e1ac9-756f-4e1d-b8d3-ff34340c06e1",
   "metadata": {},
   "outputs": [
    {
     "name": "stdout",
     "output_type": "stream",
     "text": [
      "test.txt\n",
      "4512\n",
      "1924\n",
      "input.txt\n",
      "71708\n",
      "34726\n"
     ]
    }
   ],
   "source": [
    "function parse_file(filename)\n",
    "    full_file = readdlm(filename, '\\n', String)\n",
    "    draws = parse.(Int, split(full_file[1], ','))\n",
    "    boards = parse.(Int, permutedims(hcat(filter.(x -> x ≠ \"\", split.(full_file[2:end], ' '))...)))\n",
    "    boards = [boards[i:i+4, :] for i in 1:5:size(boards)[1]]\n",
    "    return draws, boards\n",
    "end\n",
    "\n",
    "function check_board(board; marked_val=-1)\n",
    "    col_counts = sum(board .== marked_val, dims=1)\n",
    "    row_counts = sum(board .== marked_val, dims=2)\n",
    "    if any(row_counts .== size(board)[1])\n",
    "        return true\n",
    "    elseif any(col_counts .== size(board)[2])\n",
    "        return true\n",
    "    else\n",
    "        return false\n",
    "    end\n",
    "end\n",
    "\n",
    "function play_game_part1(draws, boards)\n",
    "    for d in draws\n",
    "        for b in boards\n",
    "            b[b.==d] .= -1\n",
    "        end\n",
    "        for b in boards\n",
    "            if check_board(b)\n",
    "                return d*sum(b[b .≠ -1])\n",
    "            end\n",
    "        end\n",
    "    end\n",
    "end\n",
    "\n",
    "function play_game_part2(draws, boards)\n",
    "    winners = Set([])\n",
    "    for d in draws\n",
    "        for b in boards\n",
    "            b[b.==d] .= -1\n",
    "        end\n",
    "        for (index, b) in enumerate(boards)\n",
    "            if index in winners\n",
    "                continue\n",
    "            end\n",
    "            if check_board(b)\n",
    "                winners = push!(winners, index)\n",
    "                if length(winners) == size(boards)[1]\n",
    "                    return d*sum(b[b .≠ -1])\n",
    "                \n",
    "                end\n",
    "            end\n",
    "        end\n",
    "    end\n",
    "end\n",
    "\n",
    "for fname in [\"test.txt\", \"input.txt\"]\n",
    "    println(fname)\n",
    "    contents = parse_file(fname)\n",
    "    println(play_game_part1(contents...))\n",
    "    println(play_game_part2(contents...))\n",
    "end"
   ]
  }
 ],
 "metadata": {
  "kernelspec": {
   "display_name": "Julia 1.6.4",
   "language": "julia",
   "name": "julia-1.6"
  },
  "language_info": {
   "file_extension": ".jl",
   "mimetype": "application/julia",
   "name": "julia",
   "version": "1.6.4"
  }
 },
 "nbformat": 4,
 "nbformat_minor": 5
}
