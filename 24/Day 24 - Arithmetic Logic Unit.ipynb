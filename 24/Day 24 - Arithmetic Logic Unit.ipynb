{
 "cells": [
  {
   "cell_type": "code",
   "execution_count": 1,
   "id": "1f76af15-b225-417a-89cc-6ed2b7598c29",
   "metadata": {},
   "outputs": [
    {
     "name": "stdout",
     "output_type": "stream",
     "text": [
      "1 Can push: [(1, 'E'), (2, 'F'), (3, 'G'), (4, 'H'), (5, 'I'), (6, 'J'), (7, 'K'), (8, 'L'), (9, 'M')]\n",
      "2 Can push: [(1, 'L'), (2, 'M'), (3, 'N'), (4, 'O'), (5, 'P'), (6, 'Q'), (7, 'R'), (8, 'S'), (9, 'T')]\n",
      "3 Can push: [(1, 'F'), (2, 'G'), (3, 'H'), (4, 'I'), (5, 'J'), (6, 'K'), (7, 'L'), (8, 'M'), (9, 'N')]\n",
      "4 Can push: [(1, 'L'), (2, 'M'), (3, 'N'), (4, 'O'), (5, 'P'), (6, 'Q'), (7, 'R'), (8, 'S'), (9, 'T')]\n",
      "5 Can push: [(1, 'O'), (2, 'P'), (3, 'Q'), (4, 'R'), (5, 'S'), (6, 'T'), (7, 'U'), (8, 'V'), (9, 'W')]\n",
      "6 Need to pop: [(1, 'O'), (2, 'P'), (3, 'Q'), (4, 'R'), (5, 'S'), (6, 'T'), (7, 'U'), (8, 'V'), (9, 'W')]\n",
      "         with: [(5, 'O'), (6, 'P'), (7, 'Q'), (8, 'R'), (9, 'S')]\n",
      "7 Can push: [(1, 'L'), (2, 'M'), (3, 'N'), (4, 'O'), (5, 'P'), (6, 'Q'), (7, 'R'), (8, 'S'), (9, 'T')]\n",
      "8 Need to pop: [(1, 'L'), (2, 'M'), (3, 'N'), (4, 'O'), (5, 'P'), (6, 'Q'), (7, 'R'), (8, 'S'), (9, 'T')]\n",
      "         with: [(3, 'L'), (4, 'M'), (5, 'N'), (6, 'O'), (7, 'P'), (8, 'Q'), (9, 'R')]\n",
      "9 Need to pop: [(1, 'L'), (2, 'M'), (3, 'N'), (4, 'O'), (5, 'P'), (6, 'Q'), (7, 'R'), (8, 'S'), (9, 'T')]\n",
      "         with: [(9, 'L')]\n",
      "10 Can push: [(1, 'F'), (2, 'G'), (3, 'H'), (4, 'I'), (5, 'J'), (6, 'K'), (7, 'L'), (8, 'M'), (9, 'N')]\n",
      "11 Need to pop: [(1, 'F'), (2, 'G'), (3, 'H'), (4, 'I'), (5, 'J'), (6, 'K'), (7, 'L'), (8, 'M'), (9, 'N')]\n",
      "         with: [(1, 'F'), (2, 'G'), (3, 'H'), (4, 'I'), (5, 'J'), (6, 'K'), (7, 'L'), (8, 'M'), (9, 'N')]\n",
      "12 Need to pop: [(1, 'F'), (2, 'G'), (3, 'H'), (4, 'I'), (5, 'J'), (6, 'K'), (7, 'L'), (8, 'M'), (9, 'N')]\n",
      "         with: [(1, 'K'), (2, 'L'), (3, 'M'), (4, 'N')]\n",
      "13 Need to pop: [(1, 'L'), (2, 'M'), (3, 'N'), (4, 'O'), (5, 'P'), (6, 'Q'), (7, 'R'), (8, 'S'), (9, 'T')]\n",
      "         with: [(8, 'L'), (9, 'M')]\n",
      "14 Need to pop: [(1, 'E'), (2, 'F'), (3, 'G'), (4, 'H'), (5, 'I'), (6, 'J'), (7, 'K'), (8, 'L'), (9, 'M')]\n",
      "         with: [(1, 'F'), (2, 'G'), (3, 'H'), (4, 'I'), (5, 'J'), (6, 'K'), (7, 'L'), (8, 'M')]\n"
     ]
    }
   ],
   "source": [
    "lines = readlines(\"input.txt\")\n",
    "As = parse.(Int, [split(lines[1+i*18+5], ' ')[end] for i=0:13])\n",
    "Bs = parse.(Int, [split(lines[1+i*18+15], ' ')[end] for i=0:13])\n",
    "Cs = parse.(Int, [split(lines[1+i*18+4], ' ')[end] for i=0:13])\n",
    "\n",
    "function next_z(prev_z, w, A, B, C)\n",
    "    x = Int(((prev_z % 26) + A) != w)\n",
    "    return (prev_z ÷ C) * (25*x + 1) + (w + B)*x\n",
    "end \n",
    "\n",
    "function char_rep(i)\n",
    "    if i == 0\n",
    "        return '-'\n",
    "    else\n",
    "        return Char(i+64) # 1 is A, 26 is Z\n",
    "    end\n",
    "end\n",
    "\n",
    "function decode(num)\n",
    "    out = \"\"\n",
    "    for i in 13:-1:0\n",
    "        x = num ÷ 26^i\n",
    "        num -= x*26^i\n",
    "        out *= char_rep(x)\n",
    "    end\n",
    "    return out\n",
    "end\n",
    "\n",
    "function verify(num)\n",
    "    z = 0\n",
    "    for i = 0:13\n",
    "        A, B, C = As[i+1], Bs[i+1], Cs[i+1]\n",
    "        w = parse(Int, num[i+1])\n",
    "        z = next_z(z, w, A, B, C)\n",
    "        println(i+1, \"  \", num[i+1], \" \", decode(z))\n",
    "    end\n",
    "    if z == 0\n",
    "        println(\"SUCCESS!\")\n",
    "    else\n",
    "        println(\"Boo!\")\n",
    "    end\n",
    "end\n",
    "\n",
    "commands = readlines(\"input.txt\")\n",
    "potential_pushes = []\n",
    "for i = 0:13\n",
    "    A, B, C = As[i+1], Bs[i+1], Cs[i+1]\n",
    "    if C == 1\n",
    "        push!(potential_pushes, [(w, (w + B)) for w=1:9])\n",
    "        println(i+1, \" Can push: \", [(n[1], char_rep(n[2])) for n in potential_pushes[end]])\n",
    "    else\n",
    "        need_to_pop = pop!(potential_pushes)\n",
    "        println(i+1, \" Need to pop: \", [(n[1], char_rep(n[2])) for n in need_to_pop])\n",
    "        println(\"         with: \", [(n[2]+A, char_rep(n[2])) for n in need_to_pop if (1 <= (n[2]+A) <= 9)])\n",
    "    end\n",
    "end"
   ]
  },
  {
   "cell_type": "code",
   "execution_count": 2,
   "id": "cb32eb3f",
   "metadata": {},
   "outputs": [
    {
     "data": {
      "text/plain": [
       "solve (generic function with 2 methods)"
      ]
     },
     "execution_count": 2,
     "metadata": {},
     "output_type": "execute_result"
    }
   ],
   "source": [
    "function solve(part1=true)\n",
    "    num = collect('-'^14)\n",
    "    commands = readlines(\"input.txt\")\n",
    "    potential_pushes = []\n",
    "    push_indices = []\n",
    "    for i = 0:13\n",
    "        A, B, C = As[i+1], Bs[i+1], Cs[i+1]\n",
    "        if C == 1\n",
    "            push!(potential_pushes, [(w, (w + B)) for w=1:9])\n",
    "            push!(push_indices, i+1)\n",
    "        else\n",
    "            need_to_pop = pop!(potential_pushes)\n",
    "            push_index = pop!(push_indices)\n",
    "            can_pop = [(n[2]+A, char_rep(n[2])) for n in need_to_pop if (1 <= (n[2]+A) <= 9)]\n",
    "            if part1\n",
    "                to_pop = can_pop[end]\n",
    "            else\n",
    "                to_pop = can_pop[1]\n",
    "            end\n",
    "        \n",
    "            push_num = need_to_pop[findfirst(x->char_rep(x[2])==to_pop[2], need_to_pop)][1]\n",
    "            num[push_index] = only(\"$push_num\")\n",
    "            num[i+1] = only(\"$(to_pop[1])\")\n",
    "\n",
    "        end\n",
    "    end\n",
    "    num = String(num)\n",
    "    println(\"Solution: $num\")\n",
    "    println(\"Verifying...\")\n",
    "    verify(num)\n",
    "end"
   ]
  },
  {
   "cell_type": "markdown",
   "id": "f53d4cdc",
   "metadata": {},
   "source": [
    "# Part 1"
   ]
  },
  {
   "cell_type": "code",
   "execution_count": 3,
   "id": "7e55f779",
   "metadata": {},
   "outputs": [
    {
     "name": "stdout",
     "output_type": "stream",
     "text": [
      "Solution: 92915979999498\n",
      "Verifying...\n",
      "1  9 -------------M\n",
      "2  2 ------------MM\n",
      "3  9 -----------MMN\n",
      "4  1 ----------MMNL\n",
      "5  5 ---------MMNLS\n",
      "6  9 ----------MMNL\n",
      "7  7 ---------MMNLR\n",
      "8  9 ----------MMNL\n",
      "9  9 -----------MMN\n",
      "10  9 ----------MMNN\n",
      "11  9 -----------MMN\n",
      "12  4 ------------MM\n",
      "13  9 -------------M\n",
      "14  8 --------------\n",
      "SUCCESS!\n"
     ]
    }
   ],
   "source": [
    "solve(true)"
   ]
  },
  {
   "cell_type": "markdown",
   "id": "13bf84c6",
   "metadata": {},
   "source": [
    "# Part 2"
   ]
  },
  {
   "cell_type": "code",
   "execution_count": 4,
   "id": "13b846e4",
   "metadata": {},
   "outputs": [
    {
     "name": "stdout",
     "output_type": "stream",
     "text": [
      "Solution: 21611513911181\n",
      "Verifying...\n",
      "1  2 -------------F\n",
      "2  1 ------------FL\n",
      "3  6 -----------FLK\n",
      "4  1 ----------FLKL\n",
      "5  1 ---------FLKLO\n",
      "6  5 ----------FLKL\n",
      "7  1 ---------FLKLL\n",
      "8  3 ----------FLKL\n",
      "9  9 -----------FLK\n",
      "10  1 ----------FLKF\n",
      "11  1 -----------FLK\n",
      "12  1 ------------FL\n",
      "13  8 -------------F\n",
      "14  1 --------------\n",
      "SUCCESS!\n"
     ]
    }
   ],
   "source": [
    "solve(false)"
   ]
  }
 ],
 "metadata": {
  "kernelspec": {
   "display_name": "Julia 1.6.4",
   "language": "julia",
   "name": "julia-1.6"
  },
  "language_info": {
   "file_extension": ".jl",
   "mimetype": "application/julia",
   "name": "julia",
   "version": "1.6.4"
  }
 },
 "nbformat": 4,
 "nbformat_minor": 5
}
