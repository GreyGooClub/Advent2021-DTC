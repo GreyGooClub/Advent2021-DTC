{
 "cells": [
  {
   "cell_type": "code",
   "execution_count": 1,
   "id": "1f76af15-b225-417a-89cc-6ed2b7598c29",
   "metadata": {},
   "outputs": [],
   "source": [
    "using DelimitedFiles"
   ]
  },
  {
   "cell_type": "code",
   "execution_count": null,
   "id": "a5d9c2d7",
   "metadata": {},
   "outputs": [],
   "source": []
  },
  {
   "cell_type": "code",
   "execution_count": 2,
   "id": "0903987a",
   "metadata": {},
   "outputs": [
    {
     "name": "stdout",
     "output_type": "stream",
     "text": [
      "Part 1 test: 15\n",
      "Part 1 solution: 508\n"
     ]
    }
   ],
   "source": [
    "kernel = convert.(Bool, [\n",
    "     0 1 0;\n",
    "     1 0 1;\n",
    "     0 1 0]\n",
    "    )\n",
    "\n",
    "function kernel_indices(point, data; kernel=kernel)\n",
    "    i, j = point\n",
    "    kernel_extent = size(kernel) .÷ 2\n",
    "    inds = CartesianIndices((i-kernel_extent[1]:i+kernel_extent[1],\n",
    "                            j-kernel_extent[2]:j+kernel_extent[2]))[kernel]\n",
    "    inds = filter(ind->checkbounds(Bool, data, ind), inds)\n",
    "    return inds\n",
    "end\n",
    "\n",
    "function solve_part1(filename)\n",
    "    in_data = readdlm(filename, '\\n', String)\n",
    "    data = parse.(Int, permutedims(hcat(collect.(in_data)...)))\n",
    "    risk_level = 0\n",
    "    for i = 1:size(data)[1]\n",
    "        for j = 1:size(data)[2]\n",
    "            inds = kernel_indices((i, j), data)\n",
    "            if data[i, j] < minimum(data[inds])\n",
    "                risk_level += (data[i, j] + 1)\n",
    "            end\n",
    "        end\n",
    "    end\n",
    "    return risk_level\n",
    "end\n",
    "\n",
    "println(\"Part 1 test: $(solve_part1(\"test.txt\"))\")\n",
    "println(\"Part 1 solution: $(solve_part1(\"input.txt\"))\")\n"
   ]
  },
  {
   "cell_type": "code",
   "execution_count": 3,
   "id": "69066b23",
   "metadata": {},
   "outputs": [
    {
     "name": "stdout",
     "output_type": "stream",
     "text": [
      "Part 2 test: 1134\n",
      "Part 2 solution: 1564640\n"
     ]
    }
   ],
   "source": [
    "function basin_size(point, data, val)\n",
    "    neighbours = kernel_indices(point, data)\n",
    "    bs = 1\n",
    "    data[point...] = -1\n",
    "    for n = neighbours\n",
    "        if (data[n] != 9) & (data[n] != -1)\n",
    "            bs += basin_size(Tuple(n), data, val)\n",
    "        end\n",
    "    end\n",
    "    return bs\n",
    "end\n",
    "\n",
    "function solve_part2(filename)\n",
    "    in_data = readdlm(filename, '\\n', String)\n",
    "    data = parse.(Int, permutedims(hcat(collect.(in_data)...)))\n",
    "    basin_sizes = []\n",
    "    for i = 1:size(data)[1]\n",
    "        for j = 1:size(data)[2]\n",
    "            inds = kernel_indices((i, j), data)\n",
    "            if data[i, j] < minimum(data[inds])\n",
    "                bs = basin_size((i, j), data, length(basin_sizes)+1)\n",
    "                append!(basin_sizes, bs)\n",
    "            end\n",
    "        end\n",
    "    end\n",
    "    return prod(sort(basin_sizes)[end-2:end])\n",
    "end\n",
    "\n",
    "println(\"Part 2 test: $(solve_part2(\"test.txt\"))\")\n",
    "println(\"Part 2 solution: $(solve_part2(\"input.txt\"))\")"
   ]
  }
 ],
 "metadata": {
  "kernelspec": {
   "display_name": "Julia 1.6.4",
   "language": "julia",
   "name": "julia-1.6"
  },
  "language_info": {
   "file_extension": ".jl",
   "mimetype": "application/julia",
   "name": "julia",
   "version": "1.6.4"
  }
 },
 "nbformat": 4,
 "nbformat_minor": 5
}
