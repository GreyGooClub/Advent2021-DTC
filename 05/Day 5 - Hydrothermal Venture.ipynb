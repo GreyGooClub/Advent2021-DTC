{
 "cells": [
  {
   "cell_type": "code",
   "execution_count": 1,
   "id": "1f76af15-b225-417a-89cc-6ed2b7598c29",
   "metadata": {},
   "outputs": [],
   "source": [
    "using DelimitedFiles"
   ]
  },
  {
   "cell_type": "code",
   "execution_count": 2,
   "id": "5cef679b-e33c-49b3-9b50-4d44db8e6b99",
   "metadata": {},
   "outputs": [
    {
     "name": "stdout",
     "output_type": "stream",
     "text": [
      "5\n",
      "6225\n",
      "12\n",
      "22116\n"
     ]
    }
   ],
   "source": [
    "function num_dangerous_zones(filename; ignore_diags=true)\n",
    "    data = readdlm(filename)[:, 1:2:3]\n",
    "    starts = [parse.(Int, point) for point in collect.(split.(data[:,1], ','))]\n",
    "    ends = [parse.(Int, point) for point in collect.(split.(data[:,2], ','))]\n",
    "    \n",
    "    array_size = (max([v[2]+1 for v in vcat(starts, ends)]...), \n",
    "                  max([v[1]+1 for v in vcat(starts, ends)]...))\n",
    "    field = fill(0, array_size)\n",
    "    \n",
    "    for (s, e) in zip(starts, ends)\n",
    "        xs = [s[1], e[1]]\n",
    "        dx = xs[2]>xs[1] ? 1 : -1\n",
    "        ys = [s[2], e[2]]\n",
    "        dy = ys[2] > ys[1] ? 1 : -1\n",
    "        inds = CartesianIndices((ys[1]+1:dy:ys[2]+1, xs[1]+1:dx:xs[2]+1))\n",
    "        if any(size(inds) .== 1)\n",
    "            # Just a row or column\n",
    "            field[inds] .+= 1\n",
    "        elseif !ignore_diags\n",
    "            # A Diagonal\n",
    "            field[[inds[i,i] for i = 1:size(inds)[1]]] .+= 1\n",
    "        end\n",
    "    end\n",
    "    return count(field .> 1)\n",
    "end\n",
    "    \n",
    "println(num_dangerous_zones(\"test.txt\"))\n",
    "println(num_dangerous_zones(\"input.txt\"))\n",
    "\n",
    "println(num_dangerous_zones(\"test.txt\", ignore_diags=false))\n",
    "println(num_dangerous_zones(\"input.txt\", ignore_diags=false))"
   ]
  }
 ],
 "metadata": {
  "kernelspec": {
   "display_name": "Julia 1.6.4",
   "language": "julia",
   "name": "julia-1.6"
  },
  "language_info": {
   "file_extension": ".jl",
   "mimetype": "application/julia",
   "name": "julia",
   "version": "1.6.4"
  }
 },
 "nbformat": 4,
 "nbformat_minor": 5
}
