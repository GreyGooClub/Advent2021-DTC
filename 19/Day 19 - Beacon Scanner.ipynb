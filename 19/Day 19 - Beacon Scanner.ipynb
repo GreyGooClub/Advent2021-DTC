{
 "cells": [
  {
   "cell_type": "code",
   "execution_count": 1,
   "id": "df759701",
   "metadata": {},
   "outputs": [
    {
     "data": {
      "text/plain": [
       "solve (generic function with 1 method)"
      ]
     },
     "metadata": {},
     "output_type": "display_data"
    }
   ],
   "source": [
    "using DataStructures # Just for DefaultDict\n",
    "\n",
    "function read_reports(filename::String)::Dict{Int64,Vector{Vector{Int64}}}\n",
    "    scanner_dict = Dict{Int64,Vector{Vector{Int64}}}([])\n",
    "    scanner_id = nothing\n",
    "    for line in readlines(filename)\n",
    "        if startswith(line, \"---\")\n",
    "            scanner_id = parse(Int, split(line, ' ')[3])\n",
    "            scanner_dict[scanner_id] = []\n",
    "        elseif length(line) > 0\n",
    "            push!(scanner_dict[scanner_id], parse.(Int, collect(split(line, ','))))\n",
    "        end\n",
    "    end\n",
    "    return scanner_dict\n",
    "end\n",
    "\n",
    "function pair_diffs(scan::Vector{Vector{Int64}})::Dict{Tuple{Int64,Int64},Int64}\n",
    "    # Translation/reflection/rotation invariant for comparison\n",
    "    hash = Dict{Tuple{Int64,Int64},Int64}([])\n",
    "    for (ib1, b1) in enumerate(scan)\n",
    "        for (ib2, b2) in enumerate(scan)\n",
    "            if b1 ≠ b2\n",
    "                hash[ib1, ib2] = sum((b1 - b2).^2)\n",
    "            end\n",
    "        end\n",
    "    end\n",
    "    return hash\n",
    "end\n",
    "\n",
    "function scan_overlap(scan1::Vector{Vector{Int64}}, \n",
    "                      scan2::Vector{Vector{Int64}}, \n",
    "                      pd1::Dict{Tuple{Int64,Int64},Int64}, \n",
    "                      pd2::Dict{Tuple{Int64,Int64},Int64}, \n",
    "                      shared::Set{Int64}\n",
    "                    )::Tuple{Dict{Int64,Int64},Union{Nothing,Vector{Int64}}}\n",
    "    matched_pairs = DefaultDict{Int64,Vector{Tuple{Int64,Int64}}}([])\n",
    "    for s in shared\n",
    "        for p1 in  [k for (k,v) in pd1 if v==s]\n",
    "            p2 = [k for (k,v) in pd2 if v==s]\n",
    "            append!(matched_pairs[p1[1]], p2)\n",
    "            append!(matched_pairs[p1[2]], p2)\n",
    "        end\n",
    "    end\n",
    "    final_pairs = Dict{Int64,Int64}([])\n",
    "    offsets = Set{Vector{Int64}}([])\n",
    "    for (k, v) in matched_pairs\n",
    "        flat_v = vcat([[tup...] for tup in v]...)\n",
    "        uniques = unique(flat_v)\n",
    "        counts = [count(x->x==uniq, flat_v) for uniq in uniques]\n",
    "        most = argmax(counts)\n",
    "        if counts[most] > 12\n",
    "            final_pairs[k] = uniques[most]\n",
    "            off = scan1[k] .- scan2[final_pairs[k]]\n",
    "            push!(offsets, off)\n",
    "            if length(offsets) > 1\n",
    "                # Not all beacons have the same offset\n",
    "                return final_pairs, nothing\n",
    "            end\n",
    "        end\n",
    "    end\n",
    "    return final_pairs, first(offsets)\n",
    "end\n",
    "\n",
    "function rot3D(n::Int64, axis::Int64)::Matrix{Int64}\n",
    "    cth = Int(real(im^n))\n",
    "    sth = Int(imag(im^n))\n",
    "    # There is some way to do this by rolling axes\n",
    "    if axis == 1\n",
    "        return [1    0    0;\n",
    "                0  cth -sth;\n",
    "                0  sth  cth]\n",
    "    elseif axis == 2\n",
    "        return [cth  0 -sth;\n",
    "                  0  1    0\n",
    "                sth  0  cth]\n",
    "    elseif axis == 3\n",
    "        return [cth -sth  0;\n",
    "                sth  cth  0;\n",
    "                  0    0  1]\n",
    "    end\n",
    "end\n",
    "\n",
    "function solve(filename)\n",
    "\n",
    "    facings = vcat([rot3D(i, 3) for i = 0:3], [rot3D(i, 2) for i = 1:2:3]) # 6 different ways to face\n",
    "    diff_ups = [rot3D(i, 1) for i=0:3] # 4 different ways to consider up\n",
    "    transforms = [f * d for (f,d) in Iterators.product(facings, diff_ups)][:]\n",
    "\n",
    "    scans = read_reports(filename)\n",
    "\n",
    "    # Only calculate the pair diffs and set intersections once\n",
    "    pd_cache = Dict{Int64,Dict{Tuple{Int64,Int64},Int64}}([])\n",
    "    for (scan_id, scan) in scans\n",
    "        pd_cache[scan_id] = pair_diffs(scan)\n",
    "    end\n",
    "    setint_cache = Dict{Tuple{Int64,Int64},Set{Int64}}([])\n",
    "    for (scan_id1, scan1) in scans\n",
    "        for (scan_id2, scan2) in scans\n",
    "            if scan_id1 < scan_id2\n",
    "                s1 = Set{Int64}(values(pd_cache[scan_id1]))\n",
    "                s2 = Set{Int64}(values(pd_cache[scan_id2]))\n",
    "                shared = intersect(s1, s2)\n",
    "                if length(shared) >= 66 # =12*11/2, ie. atleast 12 matches\n",
    "                    setint_cache[scan_id1, scan_id2] = shared\n",
    "                end\n",
    "            end\n",
    "        end\n",
    "    end\n",
    "    beacons = Set{Vector{Int64}}([scans[0]...])\n",
    "    searching = Dict{Int64,Tuple{Vector{Vector{Int64}}, Vector{Int64}}}([0=>(pop!(scans, 0), [0,0,0])])\n",
    "    scanner_locs = Vector{Int64}[]\n",
    "\n",
    "    while length(scans) > 0\n",
    "        newly_found = Dict{Int64, Tuple{Vector{Vector{Int64}},Vector{Int64}}}([])\n",
    "        for (scan_id1, (scan1, offset1)) in searching\n",
    "            for (scan_id2, scan2) in scans\n",
    "                tup = Tuple(sort([scan_id1, scan_id2]))\n",
    "                # Not in cache, means not enough overlap\n",
    "                if !haskey(setint_cache, tup)\n",
    "                    continue\n",
    "                end\n",
    "                shared = Set{Int64}(setint_cache[tup])\n",
    "                for t in transforms\n",
    "                    tscan2 = Vector{Int64}[t * s for s in scan2]\n",
    "                    matches, offset2 = scan_overlap(scan1, tscan2, pd_cache[scan_id1], pd_cache[scan_id2], shared)\n",
    "                    if (offset2 != nothing)\n",
    "                        pop!(scans, scan_id2)\n",
    "                        noffset = offset2 .+ offset1\n",
    "                        push!(scanner_locs, noffset)\n",
    "                        newly_found[scan_id2] = (tscan2, noffset)\n",
    "                        nbeacons = Set([([ts .+ noffset for ts in tscan2])...])\n",
    "                        union!(beacons, nbeacons)\n",
    "                        break\n",
    "                    end\n",
    "                end\n",
    "            end\n",
    "        end\n",
    "        searching = newly_found\n",
    "    end\n",
    "    println(\"Number of beacons (part 1): $(length(beacons))\")\n",
    "    max_diff = 0\n",
    "    for s1 in scanner_locs\n",
    "        for s2 in scanner_locs\n",
    "            if s1 ≠ s2\n",
    "                dist = sum(abs.(s1 - s2))\n",
    "                if dist > max_diff\n",
    "                    max_diff = dist\n",
    "                end\n",
    "            end\n",
    "        end\n",
    "    end\n",
    "    println(\"Ocean size (part 2): $max_diff\")\n",
    "end"
   ]
  },
  {
   "cell_type": "markdown",
   "id": "5bde157f",
   "metadata": {},
   "source": [
    "# Test"
   ]
  },
  {
   "cell_type": "code",
   "execution_count": 2,
   "id": "247aaed7",
   "metadata": {},
   "outputs": [
    {
     "name": "stdout",
     "output_type": "stream",
     "text": [
      "Number of beacons (part 1): 79\n",
      "Ocean size (part 2): 3621\n"
     ]
    }
   ],
   "source": [
    "solve(\"test.txt\")"
   ]
  },
  {
   "cell_type": "markdown",
   "id": "c03e56d0",
   "metadata": {},
   "source": [
    "# Full Input"
   ]
  },
  {
   "cell_type": "code",
   "execution_count": 3,
   "id": "74b0aabd",
   "metadata": {},
   "outputs": [
    {
     "name": "stdout",
     "output_type": "stream",
     "text": [
      "Number of beacons (part 1): 396\n",
      "Ocean size (part 2): 11828\n",
      "  0.415592 seconds (419.94 k allocations: 60.440 MiB, 3.50% gc time)\n"
     ]
    }
   ],
   "source": [
    "@time solve(\"input.txt\")"
   ]
  }
 ],
 "metadata": {
  "kernelspec": {
   "display_name": "Julia 1.6.4",
   "language": "julia",
   "name": "julia-1.6"
  },
  "language_info": {
   "file_extension": ".jl",
   "mimetype": "application/julia",
   "name": "julia",
   "version": "1.6.4"
  }
 },
 "nbformat": 4,
 "nbformat_minor": 5
}
