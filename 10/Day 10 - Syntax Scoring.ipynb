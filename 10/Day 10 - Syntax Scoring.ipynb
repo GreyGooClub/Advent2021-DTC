{
 "cells": [
  {
   "cell_type": "code",
   "execution_count": 1,
   "id": "1f76af15-b225-417a-89cc-6ed2b7598c29",
   "metadata": {},
   "outputs": [],
   "source": [
    "using DelimitedFiles"
   ]
  },
  {
   "cell_type": "code",
   "execution_count": 2,
   "id": "f4c07614",
   "metadata": {},
   "outputs": [
    {
     "name": "stdout",
     "output_type": "stream",
     "text": [
      "Part 1 test: 26397\n",
      "Part 1 solution: 339477\n"
     ]
    }
   ],
   "source": [
    "part1_score_table = Dict([')'=>3, ']'=>57, '}'=>1197, '>'=>25137, 'X'=>0])\n",
    "\n",
    "opening_pairs = \"([{<\"\n",
    "closing_pairs = \")]}>\"\n",
    "closing_to_opening = Dict([c=>o for (c,o) in zip(closing_pairs, opening_pairs)])\n",
    "\n",
    "function evaluate_line(line)\n",
    "    stack = []\n",
    "    corrupted = false\n",
    "    for l in line\n",
    "        if l in opening_pairs\n",
    "            stack = pushfirst!(stack, l)\n",
    "        elseif l in closing_pairs\n",
    "            popped = popfirst!(stack)\n",
    "            if popped != closing_to_opening[l]\n",
    "                corrupted = true\n",
    "                return corrupted, [l,]\n",
    "                break\n",
    "            end\n",
    "        end\n",
    "    end\n",
    "    return corrupted, stack\n",
    "end\n",
    "\n",
    "function solve_part1(filename)\n",
    "    data = readdlm(filename)\n",
    "    total_score = 0\n",
    "    for d in data\n",
    "        corrupted, output = evaluate_line(d)\n",
    "        if corrupted\n",
    "            total_score += part1_score_table[output[1]]\n",
    "        end\n",
    "    end\n",
    "    return total_score\n",
    "end\n",
    "\n",
    "println(\"Part 1 test: $(solve_part1(\"test.txt\"))\")\n",
    "println(\"Part 1 solution: $(solve_part1(\"input.txt\"))\")"
   ]
  },
  {
   "cell_type": "code",
   "execution_count": 3,
   "id": "6bd17333",
   "metadata": {},
   "outputs": [
    {
     "name": "stdout",
     "output_type": "stream",
     "text": [
      "Part 2 test: 288957\n",
      "Part 2 solution: 3049320156\n"
     ]
    }
   ],
   "source": [
    "part2_score_table = Dict([')'=>1, ']'=>2, '}'=>3, '>'=>4])\n",
    "open_to_closed = ['('=>')', '['=>']', '{'=>'}', '<'=>'>']\n",
    "\n",
    "function closing_matches(line)\n",
    "    corrupted, closing = evaluate_line(line)\n",
    "    if !corrupted\n",
    "        for replace_pair in open_to_closed\n",
    "            closing = replace(closing, replace_pair)\n",
    "        end\n",
    "    end\n",
    "    return corrupted, closing\n",
    "end\n",
    "\n",
    "function part2_score(closing)\n",
    "    score = 0\n",
    "    for c in closing\n",
    "        score = 5score + part2_score_table[c]\n",
    "    end\n",
    "    return score\n",
    "end\n",
    "\n",
    "function solve_part2(filename)\n",
    "    data = readdlm(filename)\n",
    "    part2_scores = []\n",
    "    for d in data\n",
    "        corrupted, closing = closing_matches(d)\n",
    "        if !corrupted\n",
    "            part2_scores = append!(part2_scores, part2_score(closing))\n",
    "        end\n",
    "    end\n",
    "    return sort(part2_scores)[end ÷ 2 + 1]\n",
    "end\n",
    "\n",
    "println(\"Part 2 test: $(solve_part2(\"test.txt\"))\")\n",
    "println(\"Part 2 solution: $(solve_part2(\"input.txt\"))\")"
   ]
  }
 ],
 "metadata": {
  "interpreter": {
   "hash": "6655beaf7f57a241ed2fe3a58b558d568db09842d57c904b8c0db510272f5c22"
  },
  "kernelspec": {
   "display_name": "Julia 1.6.4",
   "language": "julia",
   "name": "julia-1.6"
  },
  "language_info": {
   "file_extension": ".jl",
   "mimetype": "application/julia",
   "name": "julia",
   "version": "1.6.4"
  }
 },
 "nbformat": 4,
 "nbformat_minor": 5
}
