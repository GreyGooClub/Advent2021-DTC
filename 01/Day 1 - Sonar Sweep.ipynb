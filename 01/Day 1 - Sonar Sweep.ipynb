{
 "cells": [
  {
   "cell_type": "code",
   "execution_count": 1,
   "id": "0262df1c-46ad-4604-8347-b3f36d45bc9c",
   "metadata": {},
   "outputs": [],
   "source": [
    "using DelimitedFiles"
   ]
  },
  {
   "cell_type": "code",
   "execution_count": 2,
   "id": "d5f937d0-375e-45c8-bad8-07ecb7eec84f",
   "metadata": {},
   "outputs": [
    {
     "name": "stdout",
     "output_type": "stream",
     "text": [
      "7\n",
      "1557\n"
     ]
    }
   ],
   "source": [
    "test = readdlm(\"test.txt\", '\\n', Int)\n",
    "data = readdlm(\"input.txt\", '\\n', Int)\n",
    "\n",
    "function count_increasing(d)\n",
    "    count((d[2:end] - d[1:end-1]) .> 0)\n",
    "end\n",
    "println(count_increasing(test))\n",
    "println(count_increasing(data))"
   ]
  },
  {
   "cell_type": "code",
   "execution_count": 3,
   "id": "1b624150-ee4f-476f-899f-f26365fe294c",
   "metadata": {},
   "outputs": [
    {
     "name": "stdout",
     "output_type": "stream",
     "text": [
      "5\n",
      "1698\n"
     ]
    }
   ],
   "source": [
    "function window_data(d, window_size; reduction=sum)\n",
    "    offset = (window_size - 1) ÷ 2\n",
    "    [reduction(d[i-offset:i+offset]) for i in (1+offset):(length(d)-offset)]\n",
    "end\n",
    "\n",
    "println(count_increasing(window_data(test, 5)))\n",
    "println(count_increasing(window_data(data, 5)))"
   ]
  }
 ],
 "metadata": {
  "kernelspec": {
   "display_name": "Julia 1.6.4",
   "language": "julia",
   "name": "julia-1.6"
  },
  "language_info": {
   "file_extension": ".jl",
   "mimetype": "application/julia",
   "name": "julia",
   "version": "1.6.4"
  }
 },
 "nbformat": 4,
 "nbformat_minor": 5
}
