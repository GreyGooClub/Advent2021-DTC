{
 "cells": [
  {
   "cell_type": "code",
   "execution_count": 1,
   "id": "6d0b7a04",
   "metadata": {},
   "outputs": [
    {
     "data": {
      "text/plain": [
       "evaluate_paths (generic function with 1 method)"
      ]
     },
     "metadata": {},
     "output_type": "display_data"
    }
   ],
   "source": [
    "function ranges_from_file(filename)\n",
    "    input = readline(filename)\n",
    "    ranges = split(split(input, \"x=\")[2], \", y=\")\n",
    "    xrange = parse.(Int, split(ranges[1], \"..\"))\n",
    "    yrange = parse.(Int, split(ranges[2], \"..\"))\n",
    "    return xrange, yrange\n",
    "end\n",
    "\n",
    "function probe_hit(vx, vy, xrange, yrange)\n",
    "    x, y, t = 0, 0, 0\n",
    "    while true\n",
    "        t += 1\n",
    "        x += vx\n",
    "        y += vy\n",
    "        vx -= sign(vx)\n",
    "        vy -= 1\n",
    "        if (xrange[1] <= x <= xrange[2]) && (yrange[1] <= y <= yrange[2])\n",
    "            return true # In Trench\n",
    "        elseif (x > xrange[2]) || (y < yrange[1])\n",
    "            return false # Overshot\n",
    "        end\n",
    "    end\n",
    "end\n",
    "\n",
    "function evaluate_paths(filename)\n",
    "    xrange, yrange = ranges_from_file(filename)\n",
    "    all_path_maxy = 0\n",
    "    possible_starts = Set([])\n",
    "    # Note that final x = vx*(vx+1)/2\n",
    "    # Minimum vx solution to \n",
    "    # vx*(vx+1)/2 = xrange[1]\n",
    "    min_vx = Int(floor(0.5*(sqrt(8*xrange[1] + 1) - 1)))\n",
    "    # Max gets to end in one step\n",
    "    max_vx = xrange[2]\n",
    "    for vx in min_vx:max_vx \n",
    "        final_x = Int(vx*(vx+1)/2)\n",
    "        # Path lies somewhere enclosed by extreme \n",
    "        # cases of just touching bottom and\n",
    "        # +ve diagonal out to max x reached.\n",
    "        # So have bounds for vy reaching height\n",
    "        # of those paths in one step. There should\n",
    "        # be something less conservative.\n",
    "        for vy in yrange[1]:final_x\n",
    "            result = probe_hit(vx, vy, xrange, yrange)\n",
    "            if result\n",
    "                union!(possible_starts, Set([(vx,vy),]))\n",
    "                maxy = Int(vy*(vy+1)/2)\n",
    "                if maxy > all_path_maxy\n",
    "                    all_path_maxy = maxy\n",
    "                end\n",
    "            end\n",
    "        end\n",
    "    end\n",
    "    return all_path_maxy, length(possible_starts)\n",
    "end"
   ]
  },
  {
   "cell_type": "code",
   "execution_count": 2,
   "id": "17c59a7e",
   "metadata": {},
   "outputs": [
    {
     "name": "stdout",
     "output_type": "stream",
     "text": [
      "Part 1 test: 45\n",
      "Part 1 solution: 2775\n"
     ]
    }
   ],
   "source": [
    "println(\"Part 1 test: $(evaluate_paths(\"test.txt\")[1])\")\n",
    "println(\"Part 1 solution: $(evaluate_paths(\"input.txt\")[1])\")"
   ]
  },
  {
   "cell_type": "code",
   "execution_count": 3,
   "id": "b7009ef7",
   "metadata": {},
   "outputs": [
    {
     "name": "stdout",
     "output_type": "stream",
     "text": [
      "Part 2 test: 112\n",
      "Part 2 solution: 1566\n"
     ]
    }
   ],
   "source": [
    "println(\"Part 2 test: $(evaluate_paths(\"test.txt\")[2])\")\n",
    "println(\"Part 2 solution: $(evaluate_paths(\"input.txt\")[2])\")"
   ]
  }
 ],
 "metadata": {
  "kernelspec": {
   "display_name": "Julia 1.6.4",
   "language": "julia",
   "name": "julia-1.6"
  },
  "language_info": {
   "file_extension": ".jl",
   "mimetype": "application/julia",
   "name": "julia",
   "version": "1.6.4"
  }
 },
 "nbformat": 4,
 "nbformat_minor": 5
}
