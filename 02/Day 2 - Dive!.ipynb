{
 "cells": [
  {
   "cell_type": "code",
   "execution_count": 1,
   "id": "0e467036-a3b1-4884-98f1-19e59baecc41",
   "metadata": {},
   "outputs": [
    {
     "name": "stdout",
     "output_type": "stream",
     "text": [
      "1975\n",
      "800\n",
      "1580000\n"
     ]
    }
   ],
   "source": [
    "open(\"input.txt\", \"r\") do file\n",
    "    hpos = 0\n",
    "    depth = 0\n",
    "    while !eof(file)\n",
    "        cmd, val = split(readline(file), ' ')\n",
    "        val = parse(Int, val)\n",
    "        if cmd == \"forward\"\n",
    "            hpos += val\n",
    "        elseif cmd == \"down\"\n",
    "            depth += val\n",
    "        elseif cmd == \"up\"\n",
    "            depth -= val\n",
    "        else\n",
    "            println(\"Invalid Command: \", cmd)\n",
    "        end\n",
    "    end\n",
    "    println(hpos)\n",
    "    println(depth)\n",
    "    println(hpos*depth)\n",
    "end"
   ]
  },
  {
   "cell_type": "code",
   "execution_count": 2,
   "id": "b634d9d3-3e72-40c2-9257-20f3a0cbd652",
   "metadata": {},
   "outputs": [
    {
     "name": "stdout",
     "output_type": "stream",
     "text": [
      "1975\n",
      "633551\n",
      "1251263225\n"
     ]
    }
   ],
   "source": [
    "open(\"input.txt\", \"r\") do file\n",
    "    hpos = 0\n",
    "    depth = 0\n",
    "    aim = 0\n",
    "    while !eof(file)\n",
    "        cmd, val = split(readline(file), ' ')\n",
    "        val = parse(Int, val)\n",
    "        if cmd == \"forward\"\n",
    "            hpos += val\n",
    "            depth += aim*val\n",
    "        elseif cmd == \"down\"\n",
    "            aim += val\n",
    "        elseif cmd == \"up\"\n",
    "            aim -= val\n",
    "        else\n",
    "            println(\"Invalid Command: \", cmd)\n",
    "        end\n",
    "    end\n",
    "    println(hpos)\n",
    "    println(depth)\n",
    "    println(hpos*depth)\n",
    "end"
   ]
  }
 ],
 "metadata": {
  "kernelspec": {
   "display_name": "Julia 1.6.4",
   "language": "julia",
   "name": "julia-1.6"
  },
  "language_info": {
   "file_extension": ".jl",
   "mimetype": "application/julia",
   "name": "julia",
   "version": "1.6.4"
  }
 },
 "nbformat": 4,
 "nbformat_minor": 5
}
