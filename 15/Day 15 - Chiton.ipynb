{
 "cells": [
  {
   "cell_type": "code",
   "execution_count": 1,
   "id": "5b64a01a",
   "metadata": {},
   "outputs": [
    {
     "data": {
      "text/plain": [
       "a_star (generic function with 1 method)"
      ]
     },
     "execution_count": 1,
     "metadata": {},
     "output_type": "execute_result"
    }
   ],
   "source": [
    "using DataStructures\n",
    "\n",
    "function neighbours(point::CartesianIndex{2}, data::Matrix{Int64})::Vector{CartesianIndex{2}}\n",
    "    y, x = Tuple(point)\n",
    "    inds = [                       CartesianIndex((y-1,x)), \n",
    "            CartesianIndex((y,x-1)),                      CartesianIndex((y,x+1)),\n",
    "                                   CartesianIndex((y+1,x))]\n",
    "    return filter(i->checkbounds(Bool, data, i), inds)\n",
    "end\n",
    "\n",
    "function traverse(start, destination, risks, previous)\n",
    "    p = destination\n",
    "    shortest_distance = 0\n",
    "    path = []\n",
    "    while p != start\n",
    "        shortest_distance += risks[p]\n",
    "        p = previous[p]\n",
    "    end\n",
    "    return shortest_distance\n",
    "end \n",
    "\n",
    "function expand_risks(filename)\n",
    "    risks = parse.(Int, permutedims(hcat(collect.(readlines(filename))...)))\n",
    "    sh = size(risks)\n",
    "    nrisks = zeros(Int, sh.*5)\n",
    "    for i=1:5\n",
    "        for j=1:5\n",
    "            offset = (i-1) + (j-1)\n",
    "            nrisks[(i-1)*sh[1]+1:i*sh[1], (j-1)*sh[2]+1:j*sh[2]] = @.((risks + offset - 1) % 9 + 1)\n",
    "        end\n",
    "    end\n",
    "    return nrisks\n",
    "end\n",
    "\n",
    "function penalty(loc::CartesianIndex{2}, dest::CartesianIndex{2})::Int64\n",
    "    # Manhatten distance from destination\n",
    "    return (abs(dest[1] - loc[1]) +  abs(dest[2] - loc[2]))\n",
    "end\n",
    "\n",
    "function a_star(start::CartesianIndex{2}, risks::Array{Int64, 2}, destination::CartesianIndex{2})\n",
    "    distances = fill(typemax(Int64), size(risks))\n",
    "    distances[start] = 0\n",
    "    previous = fill(CartesianIndex((-1, -1)), size(risks))\n",
    "\n",
    "    visited = Dict{UInt64,CartesianIndex{2}}([])\n",
    "    frontier = PriorityQueue{CartesianIndex{2}, Int64}([start=>0])\n",
    "\n",
    "    while length(frontier) > 0\n",
    "        current = dequeue!(frontier)\n",
    "        if current == destination\n",
    "            break\n",
    "        end\n",
    "        for n in neighbours(current, risks)\n",
    "            ndist = distances[current] + risks[n]\n",
    "            hn = hash(n)\n",
    "            if (ndist < distances[n]) || !haskey(visited, hn)\n",
    "                visited[hn] = n\n",
    "                distances[n] = ndist\n",
    "                if !haskey(frontier, n)\n",
    "                    enqueue!(frontier, n=>ndist + penalty(n, destination))\n",
    "                end\n",
    "                previous[n] = current\n",
    "            end\n",
    "        end\n",
    "    end\n",
    "    return previous \n",
    "end"
   ]
  },
  {
   "cell_type": "code",
   "execution_count": 2,
   "id": "18f7fb83",
   "metadata": {},
   "outputs": [
    {
     "name": "stdout",
     "output_type": "stream",
     "text": [
      "Part 1 test: 40\n",
      "Part 1 solution: 388\n"
     ]
    }
   ],
   "source": [
    "function solve_part1(filename)\n",
    "    risks = parse.(Int, permutedims(hcat(collect.(readlines(filename))...)))\n",
    "    start = CartesianIndex((1,1))\n",
    "    destination = CartesianIndex(size(risks))\n",
    "\n",
    "    p = a_star(start, risks, destination)\n",
    "    shortest_distance = traverse(start, destination, risks, p)\n",
    "    return shortest_distance\n",
    "end\n",
    "\n",
    "println(\"Part 1 test: $(solve_part1(\"test.txt\"))\")\n",
    "println(\"Part 1 solution: $(solve_part1(\"input.txt\"))\")"
   ]
  },
  {
   "cell_type": "code",
   "execution_count": 3,
   "id": "b2cbf2a3",
   "metadata": {},
   "outputs": [
    {
     "name": "stdout",
     "output_type": "stream",
     "text": [
      "  0.001019 seconds (5.08 k allocations: 991.688 KiB)\n",
      "Part 2 test: 315\n",
      "  0.148362 seconds (501.05 k allocations: 103.384 MiB, 10.14% gc time)\n",
      "Part 2 solution: 2819\n"
     ]
    }
   ],
   "source": [
    "function solve_part2(filename)\n",
    "    risks = expand_risks(filename)\n",
    "    start = CartesianIndex((1,1))\n",
    "    destination = CartesianIndex(size(risks))\n",
    "    @time begin\n",
    "        p = a_star(start, risks, destination)\n",
    "    end\n",
    "    shortest_distance = traverse(start, destination, risks, p)\n",
    "    return shortest_distance\n",
    "end\n",
    "\n",
    "println(\"Part 2 test: $(solve_part2(\"test.txt\"))\")\n",
    "println(\"Part 2 solution: $(solve_part2(\"input.txt\"))\")"
   ]
  }
 ],
 "metadata": {
  "kernelspec": {
   "display_name": "Julia 1.6.4",
   "language": "julia",
   "name": "julia-1.6"
  },
  "language_info": {
   "file_extension": ".jl",
   "mimetype": "application/julia",
   "name": "julia",
   "version": "1.6.4"
  }
 },
 "nbformat": 4,
 "nbformat_minor": 5
}
